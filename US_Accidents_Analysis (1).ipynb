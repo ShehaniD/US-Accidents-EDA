{
  "nbformat": 4,
  "nbformat_minor": 0,
  "metadata": {
    "colab": {
      "name": "US Accidents Analysis.ipynb",
      "provenance": [],
      "collapsed_sections": []
    },
    "kernelspec": {
      "display_name": "Python 3",
      "name": "python3"
    },
    "language_info": {
      "name": "python"
    }
  },
  "cells": [
    {
      "cell_type": "markdown",
      "metadata": {
        "id": "q3yisbdNpRXA"
      },
      "source": [
        "**Data Set** \n",
        "\n",
        "https://www.kaggle.com/sobhanmoosavi/us-accidents\n",
        "\n",
        "This is a countrywide car accident dataset, which covers 49 states of the USA. \n",
        "The accident data are collected from February 2016 to Dec 2020, using multiple APIs that provide streaming traffic incident (or event) data. \n",
        "These APIs broadcast traffic data captured by a variety of entities, such as the US and state departments of transportation, law enforcement agencies, traffic cameras, \n",
        "and traffic sensors within the road-networks. Currently, there are about 1.5 million accident records in this dataset. "
      ]
    },
    {
      "cell_type": "code",
      "metadata": {
        "id": "Z-uaUzF6sUUc",
        "colab": {
          "resources": {
            "http://localhost:8080/nbextensions/google.colab/files.js": {
              "data": "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",
              "ok": true,
              "headers": [
                [
                  "content-type",
                  "application/javascript"
                ]
              ],
              "status": 200,
              "status_text": ""
            }
          },
          "base_uri": "https://localhost:8080/",
          "height": 90
        },
        "outputId": "d835208f-a1a2-4446-daa2-983e41fbe599"
      },
      "source": [
        " ! pip install -q kaggle\n",
        " from google.colab import files\n",
        "\n",
        "files.upload()"
      ],
      "execution_count": 1,
      "outputs": [
        {
          "output_type": "display_data",
          "data": {
            "text/html": [
              "\n",
              "     <input type=\"file\" id=\"files-4f0039c1-3184-4ff0-84a9-3424486f8caf\" name=\"files[]\" multiple disabled\n",
              "        style=\"border:none\" />\n",
              "     <output id=\"result-4f0039c1-3184-4ff0-84a9-3424486f8caf\">\n",
              "      Upload widget is only available when the cell has been executed in the\n",
              "      current browser session. Please rerun this cell to enable.\n",
              "      </output>\n",
              "      <script src=\"/nbextensions/google.colab/files.js\"></script> "
            ],
            "text/plain": [
              "<IPython.core.display.HTML object>"
            ]
          },
          "metadata": {}
        },
        {
          "output_type": "stream",
          "name": "stdout",
          "text": [
            "Saving kaggle.json to kaggle.json\n"
          ]
        },
        {
          "output_type": "execute_result",
          "data": {
            "text/plain": [
              "{'kaggle.json': b'{\"username\":\"shehanidesilva\",\"key\":\"9ec71e6b395a5cabdfb7a7d0cd9a900d\"}'}"
            ]
          },
          "metadata": {},
          "execution_count": 1
        }
      ]
    },
    {
      "cell_type": "code",
      "metadata": {
        "id": "QxWrtPJtsnu0"
      },
      "source": [
        "! mkdir ~/.kaggle\n"
      ],
      "execution_count": 2,
      "outputs": []
    },
    {
      "cell_type": "code",
      "metadata": {
        "id": "DZ6m5FMMtwST",
        "colab": {
          "base_uri": "https://localhost:8080/"
        },
        "outputId": "80ecc2ef-2c25-4ce3-f80d-9b65082a8720"
      },
      "source": [
        "! cp kaggle.json ~/.kaggle/\n",
        "\n",
        "! chmod 600 ~/.kaggle/kaggle.json\n",
        "! kaggle datasets list"
      ],
      "execution_count": 3,
      "outputs": [
        {
          "output_type": "stream",
          "name": "stdout",
          "text": [
            "Warning: Looks like you're using an outdated API Version, please consider updating (server 1.5.12 / client 1.5.4)\n",
            "ref                                                         title                                              size  lastUpdated          downloadCount  \n",
            "----------------------------------------------------------  ------------------------------------------------  -----  -------------------  -------------  \n",
            "gpreda/reddit-vaccine-myths                                 Reddit Vaccine Myths                              237KB  2021-11-10 18:11:20          15351  \n",
            "crowww/a-large-scale-fish-dataset                           A Large Scale Fish Dataset                          3GB  2021-04-28 17:03:01           9340  \n",
            "imsparsh/musicnet-dataset                                   MusicNet Dataset                                   22GB  2021-02-18 14:12:19           4173  \n",
            "dhruvildave/wikibooks-dataset                               Wikibooks Dataset                                   2GB  2021-10-22 10:48:21           3416  \n",
            "promptcloud/careerbuilder-job-listing-2020                  Careerbuilder Job Listing 2020                     42MB  2021-03-05 06:59:52           2572  \n",
            "nickuzmenkov/nih-chest-xrays-tfrecords                      NIH Chest X-rays TFRecords                         11GB  2021-03-09 04:49:23           1541  \n",
            "fatiimaezzahra/famous-iconic-women                          Famous Iconic Women                               838MB  2021-02-28 14:56:00           1809  \n",
            "alsgroup/end-als                                            End ALS Kaggle Challenge                           12GB  2021-04-08 12:16:37           1070  \n",
            "mathurinache/twitter-edge-nodes                             Twitter Edge Nodes                                342MB  2021-03-08 06:43:04           1251  \n",
            "simiotic/github-code-snippets                               GitHub Code Snippets                                7GB  2021-03-03 11:34:39            471  \n",
            "mathurinache/the-lj-speech-dataset                          The LJ Speech Dataset                               3GB  2021-02-15 09:19:54            453  \n",
            "coloradokb/dandelionimages                                  DandelionImages                                     4GB  2021-02-19 20:03:47            999  \n",
            "stuartjames/lights                                          LightS: Light Specularity Dataset                  18GB  2021-02-18 14:32:26            191  \n",
            "imsparsh/accentdb-core-extended                             AccentDB - Core & Extended                          6GB  2021-02-17 14:22:54            175  \n",
            "nickuzmenkov/ranzcr-clip-kfold-tfrecords                    RANZCR CLiP KFold TFRecords                         2GB  2021-02-21 13:29:51            155  \n",
            "landrykezebou/lvzhdr-tone-mapping-benchmark-dataset-tmonet  LVZ-HDR Tone Mapping Benchmark Dataset (TMO-Net)   24GB  2021-03-01 05:03:40            225  \n",
            "datasnaek/youtube-new                                       Trending YouTube Video Statistics                 201MB  2019-06-03 00:56:47         157187  \n",
            "zynicide/wine-reviews                                       Wine Reviews                                       51MB  2017-11-27 17:08:04         147924  \n",
            "residentmario/ramen-ratings                                 Ramen Ratings                                      40KB  2018-01-11 16:04:39          29442  \n",
            "datasnaek/chess                                             Chess Game Dataset (Lichess)                        3MB  2017-09-04 03:09:09          24570  \n"
          ]
        }
      ]
    },
    {
      "cell_type": "code",
      "metadata": {
        "id": "L3f2vaWAu3-7",
        "colab": {
          "base_uri": "https://localhost:8080/"
        },
        "outputId": "e177072d-b79e-47a0-e192-6b917fd98f50"
      },
      "source": [
        "!pip install --upgrade --force-reinstall --no-deps kaggle"
      ],
      "execution_count": 4,
      "outputs": [
        {
          "output_type": "stream",
          "name": "stdout",
          "text": [
            "Collecting kaggle\n",
            "  Downloading kaggle-1.5.12.tar.gz (58 kB)\n",
            "\u001b[?25l\r\u001b[K     |█████▋                          | 10 kB 25.2 MB/s eta 0:00:01\r\u001b[K     |███████████▏                    | 20 kB 32.2 MB/s eta 0:00:01\r\u001b[K     |████████████████▊               | 30 kB 36.1 MB/s eta 0:00:01\r\u001b[K     |██████████████████████▎         | 40 kB 35.4 MB/s eta 0:00:01\r\u001b[K     |███████████████████████████▉    | 51 kB 37.0 MB/s eta 0:00:01\r\u001b[K     |████████████████████████████████| 58 kB 5.6 MB/s \n",
            "\u001b[?25hBuilding wheels for collected packages: kaggle\n",
            "  Building wheel for kaggle (setup.py) ... \u001b[?25l\u001b[?25hdone\n",
            "  Created wheel for kaggle: filename=kaggle-1.5.12-py3-none-any.whl size=73051 sha256=4dc059706c90de33584154ad5e26ede2f7ce9380e0acd5275e24bf883d07a685\n",
            "  Stored in directory: /root/.cache/pip/wheels/62/d6/58/5853130f941e75b2177d281eb7e44b4a98ed46dd155f556dc5\n",
            "Successfully built kaggle\n",
            "Installing collected packages: kaggle\n",
            "  Attempting uninstall: kaggle\n",
            "    Found existing installation: kaggle 1.5.12\n",
            "    Uninstalling kaggle-1.5.12:\n",
            "      Successfully uninstalled kaggle-1.5.12\n",
            "Successfully installed kaggle-1.5.12\n"
          ]
        }
      ]
    },
    {
      "cell_type": "code",
      "metadata": {
        "id": "KzYyAhrzwl2F",
        "colab": {
          "base_uri": "https://localhost:8080/"
        },
        "outputId": "abc75eac-033f-41df-eee3-621ae18c9240"
      },
      "source": [
        "!kaggle datasets download -d sobhanmoosavi/us-accidents"
      ],
      "execution_count": 5,
      "outputs": [
        {
          "output_type": "stream",
          "name": "stdout",
          "text": [
            "Downloading us-accidents.zip to /content\n",
            " 83% 97.0M/117M [00:00<00:00, 158MB/s]\n",
            "100% 117M/117M [00:00<00:00, 147MB/s] \n"
          ]
        }
      ]
    },
    {
      "cell_type": "code",
      "metadata": {
        "id": "D8FJkev7xjLQ"
      },
      "source": [
        "! mkdir us-accidents"
      ],
      "execution_count": 6,
      "outputs": []
    },
    {
      "cell_type": "code",
      "metadata": {
        "colab": {
          "base_uri": "https://localhost:8080/"
        },
        "id": "tSLc4Q-kyRWo",
        "outputId": "79378548-4eb1-4b49-c2a2-479facb5b052"
      },
      "source": [
        "! unzip us-accidents.zip -d us-accidents"
      ],
      "execution_count": 7,
      "outputs": [
        {
          "output_type": "stream",
          "name": "stdout",
          "text": [
            "Archive:  us-accidents.zip\n",
            "  inflating: us-accidents/US_Accidents_Dec20_updated.csv  \n"
          ]
        }
      ]
    },
    {
      "cell_type": "code",
      "metadata": {
        "id": "s8HiuLm0ydOk"
      },
      "source": [
        "data_filename = './us-accidents/US_Accidents_Dec20_updated.csv'"
      ],
      "execution_count": 8,
      "outputs": []
    },
    {
      "cell_type": "markdown",
      "metadata": {
        "id": "vZjvRL7Tpjbk"
      },
      "source": [
        "# **Data Preparation and Cleaning**"
      ]
    },
    {
      "cell_type": "markdown",
      "metadata": {
        "id": "F09rJvoA4zeI"
      },
      "source": [
        "\n",
        "\n",
        "\n",
        "\n",
        "*   Load the file using pandas\n",
        "*   Look at some information about the data & the columns\n",
        "*   Fix ant missing or incorrect values\n",
        "\n",
        "\n",
        "\n",
        "\n"
      ]
    },
    {
      "cell_type": "code",
      "metadata": {
        "id": "p59M3OhB4vZJ"
      },
      "source": [
        "import pandas as pd\n",
        "\n",
        "df = pd.read_csv(data_filename)"
      ],
      "execution_count": 9,
      "outputs": []
    },
    {
      "cell_type": "code",
      "metadata": {
        "id": "Ql7qtAph5tkp",
        "colab": {
          "base_uri": "https://localhost:8080/",
          "height": 874
        },
        "outputId": "3183a63f-f961-4e1c-bb42-524f7c05b75f"
      },
      "source": [
        "df"
      ],
      "execution_count": 10,
      "outputs": [
        {
          "output_type": "execute_result",
          "data": {
            "text/html": [
              "<div>\n",
              "<style scoped>\n",
              "    .dataframe tbody tr th:only-of-type {\n",
              "        vertical-align: middle;\n",
              "    }\n",
              "\n",
              "    .dataframe tbody tr th {\n",
              "        vertical-align: top;\n",
              "    }\n",
              "\n",
              "    .dataframe thead th {\n",
              "        text-align: right;\n",
              "    }\n",
              "</style>\n",
              "<table border=\"1\" class=\"dataframe\">\n",
              "  <thead>\n",
              "    <tr style=\"text-align: right;\">\n",
              "      <th></th>\n",
              "      <th>ID</th>\n",
              "      <th>Severity</th>\n",
              "      <th>Start_Time</th>\n",
              "      <th>End_Time</th>\n",
              "      <th>Start_Lat</th>\n",
              "      <th>Start_Lng</th>\n",
              "      <th>End_Lat</th>\n",
              "      <th>End_Lng</th>\n",
              "      <th>Distance(mi)</th>\n",
              "      <th>Description</th>\n",
              "      <th>Number</th>\n",
              "      <th>Street</th>\n",
              "      <th>Side</th>\n",
              "      <th>City</th>\n",
              "      <th>County</th>\n",
              "      <th>State</th>\n",
              "      <th>Zipcode</th>\n",
              "      <th>Country</th>\n",
              "      <th>Timezone</th>\n",
              "      <th>Airport_Code</th>\n",
              "      <th>Weather_Timestamp</th>\n",
              "      <th>Temperature(F)</th>\n",
              "      <th>Wind_Chill(F)</th>\n",
              "      <th>Humidity(%)</th>\n",
              "      <th>Pressure(in)</th>\n",
              "      <th>Visibility(mi)</th>\n",
              "      <th>Wind_Direction</th>\n",
              "      <th>Wind_Speed(mph)</th>\n",
              "      <th>Precipitation(in)</th>\n",
              "      <th>Weather_Condition</th>\n",
              "      <th>Amenity</th>\n",
              "      <th>Bump</th>\n",
              "      <th>Crossing</th>\n",
              "      <th>Give_Way</th>\n",
              "      <th>Junction</th>\n",
              "      <th>No_Exit</th>\n",
              "      <th>Railway</th>\n",
              "      <th>Roundabout</th>\n",
              "      <th>Station</th>\n",
              "      <th>Stop</th>\n",
              "      <th>Traffic_Calming</th>\n",
              "      <th>Traffic_Signal</th>\n",
              "      <th>Turning_Loop</th>\n",
              "      <th>Sunrise_Sunset</th>\n",
              "      <th>Civil_Twilight</th>\n",
              "      <th>Nautical_Twilight</th>\n",
              "      <th>Astronomical_Twilight</th>\n",
              "    </tr>\n",
              "  </thead>\n",
              "  <tbody>\n",
              "    <tr>\n",
              "      <th>0</th>\n",
              "      <td>A-2716600</td>\n",
              "      <td>3</td>\n",
              "      <td>2016-02-08 00:37:08</td>\n",
              "      <td>2016-02-08 06:37:08</td>\n",
              "      <td>40.10891</td>\n",
              "      <td>-83.09286</td>\n",
              "      <td>40.11206</td>\n",
              "      <td>-83.03187</td>\n",
              "      <td>3.230</td>\n",
              "      <td>Between Sawmill Rd/Exit 20 and OH-315/Olentang...</td>\n",
              "      <td>NaN</td>\n",
              "      <td>Outerbelt E</td>\n",
              "      <td>R</td>\n",
              "      <td>Dublin</td>\n",
              "      <td>Franklin</td>\n",
              "      <td>OH</td>\n",
              "      <td>43017</td>\n",
              "      <td>US</td>\n",
              "      <td>US/Eastern</td>\n",
              "      <td>KOSU</td>\n",
              "      <td>2016-02-08 00:53:00</td>\n",
              "      <td>42.1</td>\n",
              "      <td>36.1</td>\n",
              "      <td>58.0</td>\n",
              "      <td>29.76</td>\n",
              "      <td>10.0</td>\n",
              "      <td>SW</td>\n",
              "      <td>10.4</td>\n",
              "      <td>0.00</td>\n",
              "      <td>Light Rain</td>\n",
              "      <td>False</td>\n",
              "      <td>False</td>\n",
              "      <td>False</td>\n",
              "      <td>False</td>\n",
              "      <td>False</td>\n",
              "      <td>False</td>\n",
              "      <td>False</td>\n",
              "      <td>False</td>\n",
              "      <td>False</td>\n",
              "      <td>False</td>\n",
              "      <td>False</td>\n",
              "      <td>False</td>\n",
              "      <td>False</td>\n",
              "      <td>Night</td>\n",
              "      <td>Night</td>\n",
              "      <td>Night</td>\n",
              "      <td>Night</td>\n",
              "    </tr>\n",
              "    <tr>\n",
              "      <th>1</th>\n",
              "      <td>A-2716601</td>\n",
              "      <td>2</td>\n",
              "      <td>2016-02-08 05:56:20</td>\n",
              "      <td>2016-02-08 11:56:20</td>\n",
              "      <td>39.86542</td>\n",
              "      <td>-84.06280</td>\n",
              "      <td>39.86501</td>\n",
              "      <td>-84.04873</td>\n",
              "      <td>0.747</td>\n",
              "      <td>At OH-4/OH-235/Exit 41 - Accident.</td>\n",
              "      <td>NaN</td>\n",
              "      <td>I-70 E</td>\n",
              "      <td>R</td>\n",
              "      <td>Dayton</td>\n",
              "      <td>Montgomery</td>\n",
              "      <td>OH</td>\n",
              "      <td>45424</td>\n",
              "      <td>US</td>\n",
              "      <td>US/Eastern</td>\n",
              "      <td>KFFO</td>\n",
              "      <td>2016-02-08 05:58:00</td>\n",
              "      <td>36.9</td>\n",
              "      <td>NaN</td>\n",
              "      <td>91.0</td>\n",
              "      <td>29.68</td>\n",
              "      <td>10.0</td>\n",
              "      <td>Calm</td>\n",
              "      <td>NaN</td>\n",
              "      <td>0.02</td>\n",
              "      <td>Light Rain</td>\n",
              "      <td>False</td>\n",
              "      <td>False</td>\n",
              "      <td>False</td>\n",
              "      <td>False</td>\n",
              "      <td>False</td>\n",
              "      <td>False</td>\n",
              "      <td>False</td>\n",
              "      <td>False</td>\n",
              "      <td>False</td>\n",
              "      <td>False</td>\n",
              "      <td>False</td>\n",
              "      <td>False</td>\n",
              "      <td>False</td>\n",
              "      <td>Night</td>\n",
              "      <td>Night</td>\n",
              "      <td>Night</td>\n",
              "      <td>Night</td>\n",
              "    </tr>\n",
              "    <tr>\n",
              "      <th>2</th>\n",
              "      <td>A-2716602</td>\n",
              "      <td>2</td>\n",
              "      <td>2016-02-08 06:15:39</td>\n",
              "      <td>2016-02-08 12:15:39</td>\n",
              "      <td>39.10266</td>\n",
              "      <td>-84.52468</td>\n",
              "      <td>39.10209</td>\n",
              "      <td>-84.52396</td>\n",
              "      <td>0.055</td>\n",
              "      <td>At I-71/US-50/Exit 1 - Accident.</td>\n",
              "      <td>NaN</td>\n",
              "      <td>I-75 S</td>\n",
              "      <td>R</td>\n",
              "      <td>Cincinnati</td>\n",
              "      <td>Hamilton</td>\n",
              "      <td>OH</td>\n",
              "      <td>45203</td>\n",
              "      <td>US</td>\n",
              "      <td>US/Eastern</td>\n",
              "      <td>KLUK</td>\n",
              "      <td>2016-02-08 05:53:00</td>\n",
              "      <td>36.0</td>\n",
              "      <td>NaN</td>\n",
              "      <td>97.0</td>\n",
              "      <td>29.70</td>\n",
              "      <td>10.0</td>\n",
              "      <td>Calm</td>\n",
              "      <td>NaN</td>\n",
              "      <td>0.02</td>\n",
              "      <td>Overcast</td>\n",
              "      <td>False</td>\n",
              "      <td>False</td>\n",
              "      <td>False</td>\n",
              "      <td>False</td>\n",
              "      <td>True</td>\n",
              "      <td>False</td>\n",
              "      <td>False</td>\n",
              "      <td>False</td>\n",
              "      <td>False</td>\n",
              "      <td>False</td>\n",
              "      <td>False</td>\n",
              "      <td>False</td>\n",
              "      <td>False</td>\n",
              "      <td>Night</td>\n",
              "      <td>Night</td>\n",
              "      <td>Night</td>\n",
              "      <td>Day</td>\n",
              "    </tr>\n",
              "    <tr>\n",
              "      <th>3</th>\n",
              "      <td>A-2716603</td>\n",
              "      <td>2</td>\n",
              "      <td>2016-02-08 06:15:39</td>\n",
              "      <td>2016-02-08 12:15:39</td>\n",
              "      <td>39.10148</td>\n",
              "      <td>-84.52341</td>\n",
              "      <td>39.09841</td>\n",
              "      <td>-84.52241</td>\n",
              "      <td>0.219</td>\n",
              "      <td>At I-71/US-50/Exit 1 - Accident.</td>\n",
              "      <td>NaN</td>\n",
              "      <td>US-50 E</td>\n",
              "      <td>R</td>\n",
              "      <td>Cincinnati</td>\n",
              "      <td>Hamilton</td>\n",
              "      <td>OH</td>\n",
              "      <td>45202</td>\n",
              "      <td>US</td>\n",
              "      <td>US/Eastern</td>\n",
              "      <td>KLUK</td>\n",
              "      <td>2016-02-08 05:53:00</td>\n",
              "      <td>36.0</td>\n",
              "      <td>NaN</td>\n",
              "      <td>97.0</td>\n",
              "      <td>29.70</td>\n",
              "      <td>10.0</td>\n",
              "      <td>Calm</td>\n",
              "      <td>NaN</td>\n",
              "      <td>0.02</td>\n",
              "      <td>Overcast</td>\n",
              "      <td>False</td>\n",
              "      <td>False</td>\n",
              "      <td>False</td>\n",
              "      <td>False</td>\n",
              "      <td>True</td>\n",
              "      <td>False</td>\n",
              "      <td>False</td>\n",
              "      <td>False</td>\n",
              "      <td>False</td>\n",
              "      <td>False</td>\n",
              "      <td>False</td>\n",
              "      <td>False</td>\n",
              "      <td>False</td>\n",
              "      <td>Night</td>\n",
              "      <td>Night</td>\n",
              "      <td>Night</td>\n",
              "      <td>Day</td>\n",
              "    </tr>\n",
              "    <tr>\n",
              "      <th>4</th>\n",
              "      <td>A-2716604</td>\n",
              "      <td>2</td>\n",
              "      <td>2016-02-08 06:51:45</td>\n",
              "      <td>2016-02-08 12:51:45</td>\n",
              "      <td>41.06213</td>\n",
              "      <td>-81.53784</td>\n",
              "      <td>41.06217</td>\n",
              "      <td>-81.53547</td>\n",
              "      <td>0.123</td>\n",
              "      <td>At Dart Ave/Exit 21 - Accident.</td>\n",
              "      <td>NaN</td>\n",
              "      <td>I-77 N</td>\n",
              "      <td>R</td>\n",
              "      <td>Akron</td>\n",
              "      <td>Summit</td>\n",
              "      <td>OH</td>\n",
              "      <td>44311</td>\n",
              "      <td>US</td>\n",
              "      <td>US/Eastern</td>\n",
              "      <td>KAKR</td>\n",
              "      <td>2016-02-08 06:54:00</td>\n",
              "      <td>39.0</td>\n",
              "      <td>NaN</td>\n",
              "      <td>55.0</td>\n",
              "      <td>29.65</td>\n",
              "      <td>10.0</td>\n",
              "      <td>Calm</td>\n",
              "      <td>NaN</td>\n",
              "      <td>NaN</td>\n",
              "      <td>Overcast</td>\n",
              "      <td>False</td>\n",
              "      <td>False</td>\n",
              "      <td>False</td>\n",
              "      <td>False</td>\n",
              "      <td>False</td>\n",
              "      <td>False</td>\n",
              "      <td>False</td>\n",
              "      <td>False</td>\n",
              "      <td>False</td>\n",
              "      <td>False</td>\n",
              "      <td>False</td>\n",
              "      <td>False</td>\n",
              "      <td>False</td>\n",
              "      <td>Night</td>\n",
              "      <td>Night</td>\n",
              "      <td>Day</td>\n",
              "      <td>Day</td>\n",
              "    </tr>\n",
              "    <tr>\n",
              "      <th>...</th>\n",
              "      <td>...</td>\n",
              "      <td>...</td>\n",
              "      <td>...</td>\n",
              "      <td>...</td>\n",
              "      <td>...</td>\n",
              "      <td>...</td>\n",
              "      <td>...</td>\n",
              "      <td>...</td>\n",
              "      <td>...</td>\n",
              "      <td>...</td>\n",
              "      <td>...</td>\n",
              "      <td>...</td>\n",
              "      <td>...</td>\n",
              "      <td>...</td>\n",
              "      <td>...</td>\n",
              "      <td>...</td>\n",
              "      <td>...</td>\n",
              "      <td>...</td>\n",
              "      <td>...</td>\n",
              "      <td>...</td>\n",
              "      <td>...</td>\n",
              "      <td>...</td>\n",
              "      <td>...</td>\n",
              "      <td>...</td>\n",
              "      <td>...</td>\n",
              "      <td>...</td>\n",
              "      <td>...</td>\n",
              "      <td>...</td>\n",
              "      <td>...</td>\n",
              "      <td>...</td>\n",
              "      <td>...</td>\n",
              "      <td>...</td>\n",
              "      <td>...</td>\n",
              "      <td>...</td>\n",
              "      <td>...</td>\n",
              "      <td>...</td>\n",
              "      <td>...</td>\n",
              "      <td>...</td>\n",
              "      <td>...</td>\n",
              "      <td>...</td>\n",
              "      <td>...</td>\n",
              "      <td>...</td>\n",
              "      <td>...</td>\n",
              "      <td>...</td>\n",
              "      <td>...</td>\n",
              "      <td>...</td>\n",
              "      <td>...</td>\n",
              "    </tr>\n",
              "    <tr>\n",
              "      <th>1516059</th>\n",
              "      <td>A-4239402</td>\n",
              "      <td>2</td>\n",
              "      <td>2019-08-23 18:03:25</td>\n",
              "      <td>2019-08-23 18:32:01</td>\n",
              "      <td>34.00248</td>\n",
              "      <td>-117.37936</td>\n",
              "      <td>33.99888</td>\n",
              "      <td>-117.37094</td>\n",
              "      <td>0.543</td>\n",
              "      <td>At Market St - Accident.</td>\n",
              "      <td>NaN</td>\n",
              "      <td>Pomona Fwy E</td>\n",
              "      <td>R</td>\n",
              "      <td>Riverside</td>\n",
              "      <td>Riverside</td>\n",
              "      <td>CA</td>\n",
              "      <td>92501</td>\n",
              "      <td>US</td>\n",
              "      <td>US/Pacific</td>\n",
              "      <td>KRAL</td>\n",
              "      <td>2019-08-23 17:53:00</td>\n",
              "      <td>86.0</td>\n",
              "      <td>86.0</td>\n",
              "      <td>40.0</td>\n",
              "      <td>28.92</td>\n",
              "      <td>10.0</td>\n",
              "      <td>W</td>\n",
              "      <td>13.0</td>\n",
              "      <td>0.00</td>\n",
              "      <td>Fair</td>\n",
              "      <td>False</td>\n",
              "      <td>False</td>\n",
              "      <td>False</td>\n",
              "      <td>False</td>\n",
              "      <td>False</td>\n",
              "      <td>False</td>\n",
              "      <td>False</td>\n",
              "      <td>False</td>\n",
              "      <td>False</td>\n",
              "      <td>False</td>\n",
              "      <td>False</td>\n",
              "      <td>False</td>\n",
              "      <td>False</td>\n",
              "      <td>Day</td>\n",
              "      <td>Day</td>\n",
              "      <td>Day</td>\n",
              "      <td>Day</td>\n",
              "    </tr>\n",
              "    <tr>\n",
              "      <th>1516060</th>\n",
              "      <td>A-4239403</td>\n",
              "      <td>2</td>\n",
              "      <td>2019-08-23 19:11:30</td>\n",
              "      <td>2019-08-23 19:38:23</td>\n",
              "      <td>32.76696</td>\n",
              "      <td>-117.14806</td>\n",
              "      <td>32.76555</td>\n",
              "      <td>-117.15363</td>\n",
              "      <td>0.338</td>\n",
              "      <td>At Camino Del Rio/Mission Center Rd - Accident.</td>\n",
              "      <td>NaN</td>\n",
              "      <td>I-8 W</td>\n",
              "      <td>R</td>\n",
              "      <td>San Diego</td>\n",
              "      <td>San Diego</td>\n",
              "      <td>CA</td>\n",
              "      <td>92108</td>\n",
              "      <td>US</td>\n",
              "      <td>US/Pacific</td>\n",
              "      <td>KMYF</td>\n",
              "      <td>2019-08-23 18:53:00</td>\n",
              "      <td>70.0</td>\n",
              "      <td>70.0</td>\n",
              "      <td>73.0</td>\n",
              "      <td>29.39</td>\n",
              "      <td>10.0</td>\n",
              "      <td>SW</td>\n",
              "      <td>6.0</td>\n",
              "      <td>0.00</td>\n",
              "      <td>Fair</td>\n",
              "      <td>False</td>\n",
              "      <td>False</td>\n",
              "      <td>False</td>\n",
              "      <td>False</td>\n",
              "      <td>False</td>\n",
              "      <td>False</td>\n",
              "      <td>False</td>\n",
              "      <td>False</td>\n",
              "      <td>False</td>\n",
              "      <td>False</td>\n",
              "      <td>False</td>\n",
              "      <td>False</td>\n",
              "      <td>False</td>\n",
              "      <td>Day</td>\n",
              "      <td>Day</td>\n",
              "      <td>Day</td>\n",
              "      <td>Day</td>\n",
              "    </tr>\n",
              "    <tr>\n",
              "      <th>1516061</th>\n",
              "      <td>A-4239404</td>\n",
              "      <td>2</td>\n",
              "      <td>2019-08-23 19:00:21</td>\n",
              "      <td>2019-08-23 19:28:49</td>\n",
              "      <td>33.77545</td>\n",
              "      <td>-117.84779</td>\n",
              "      <td>33.77740</td>\n",
              "      <td>-117.85727</td>\n",
              "      <td>0.561</td>\n",
              "      <td>At Glassell St/Grand Ave - Accident. in the ri...</td>\n",
              "      <td>NaN</td>\n",
              "      <td>Garden Grove Fwy</td>\n",
              "      <td>R</td>\n",
              "      <td>Orange</td>\n",
              "      <td>Orange</td>\n",
              "      <td>CA</td>\n",
              "      <td>92866</td>\n",
              "      <td>US</td>\n",
              "      <td>US/Pacific</td>\n",
              "      <td>KSNA</td>\n",
              "      <td>2019-08-23 18:53:00</td>\n",
              "      <td>73.0</td>\n",
              "      <td>73.0</td>\n",
              "      <td>64.0</td>\n",
              "      <td>29.74</td>\n",
              "      <td>10.0</td>\n",
              "      <td>SSW</td>\n",
              "      <td>10.0</td>\n",
              "      <td>0.00</td>\n",
              "      <td>Partly Cloudy</td>\n",
              "      <td>False</td>\n",
              "      <td>False</td>\n",
              "      <td>False</td>\n",
              "      <td>False</td>\n",
              "      <td>True</td>\n",
              "      <td>False</td>\n",
              "      <td>False</td>\n",
              "      <td>False</td>\n",
              "      <td>False</td>\n",
              "      <td>False</td>\n",
              "      <td>False</td>\n",
              "      <td>False</td>\n",
              "      <td>False</td>\n",
              "      <td>Day</td>\n",
              "      <td>Day</td>\n",
              "      <td>Day</td>\n",
              "      <td>Day</td>\n",
              "    </tr>\n",
              "    <tr>\n",
              "      <th>1516062</th>\n",
              "      <td>A-4239405</td>\n",
              "      <td>2</td>\n",
              "      <td>2019-08-23 19:00:21</td>\n",
              "      <td>2019-08-23 19:29:42</td>\n",
              "      <td>33.99246</td>\n",
              "      <td>-118.40302</td>\n",
              "      <td>33.98311</td>\n",
              "      <td>-118.39565</td>\n",
              "      <td>0.772</td>\n",
              "      <td>At CA-90/Marina Fwy/Jefferson Blvd - Accident.</td>\n",
              "      <td>NaN</td>\n",
              "      <td>San Diego Fwy S</td>\n",
              "      <td>R</td>\n",
              "      <td>Culver City</td>\n",
              "      <td>Los Angeles</td>\n",
              "      <td>CA</td>\n",
              "      <td>90230</td>\n",
              "      <td>US</td>\n",
              "      <td>US/Pacific</td>\n",
              "      <td>KSMO</td>\n",
              "      <td>2019-08-23 18:51:00</td>\n",
              "      <td>71.0</td>\n",
              "      <td>71.0</td>\n",
              "      <td>81.0</td>\n",
              "      <td>29.62</td>\n",
              "      <td>10.0</td>\n",
              "      <td>SW</td>\n",
              "      <td>8.0</td>\n",
              "      <td>0.00</td>\n",
              "      <td>Fair</td>\n",
              "      <td>False</td>\n",
              "      <td>False</td>\n",
              "      <td>False</td>\n",
              "      <td>False</td>\n",
              "      <td>False</td>\n",
              "      <td>False</td>\n",
              "      <td>False</td>\n",
              "      <td>False</td>\n",
              "      <td>False</td>\n",
              "      <td>False</td>\n",
              "      <td>False</td>\n",
              "      <td>False</td>\n",
              "      <td>False</td>\n",
              "      <td>Day</td>\n",
              "      <td>Day</td>\n",
              "      <td>Day</td>\n",
              "      <td>Day</td>\n",
              "    </tr>\n",
              "    <tr>\n",
              "      <th>1516063</th>\n",
              "      <td>A-4239406</td>\n",
              "      <td>2</td>\n",
              "      <td>2019-08-23 18:52:06</td>\n",
              "      <td>2019-08-23 19:21:31</td>\n",
              "      <td>34.13393</td>\n",
              "      <td>-117.23092</td>\n",
              "      <td>34.13736</td>\n",
              "      <td>-117.23934</td>\n",
              "      <td>0.537</td>\n",
              "      <td>At Highland Ave/Arden Ave - Accident.</td>\n",
              "      <td>NaN</td>\n",
              "      <td>CA-210 W</td>\n",
              "      <td>R</td>\n",
              "      <td>Highland</td>\n",
              "      <td>San Bernardino</td>\n",
              "      <td>CA</td>\n",
              "      <td>92346</td>\n",
              "      <td>US</td>\n",
              "      <td>US/Pacific</td>\n",
              "      <td>KSBD</td>\n",
              "      <td>2019-08-23 20:50:00</td>\n",
              "      <td>79.0</td>\n",
              "      <td>79.0</td>\n",
              "      <td>47.0</td>\n",
              "      <td>28.63</td>\n",
              "      <td>7.0</td>\n",
              "      <td>SW</td>\n",
              "      <td>7.0</td>\n",
              "      <td>0.00</td>\n",
              "      <td>Fair</td>\n",
              "      <td>False</td>\n",
              "      <td>False</td>\n",
              "      <td>False</td>\n",
              "      <td>False</td>\n",
              "      <td>False</td>\n",
              "      <td>False</td>\n",
              "      <td>False</td>\n",
              "      <td>False</td>\n",
              "      <td>False</td>\n",
              "      <td>False</td>\n",
              "      <td>False</td>\n",
              "      <td>False</td>\n",
              "      <td>False</td>\n",
              "      <td>Day</td>\n",
              "      <td>Day</td>\n",
              "      <td>Day</td>\n",
              "      <td>Day</td>\n",
              "    </tr>\n",
              "  </tbody>\n",
              "</table>\n",
              "<p>1516064 rows × 47 columns</p>\n",
              "</div>"
            ],
            "text/plain": [
              "                ID  Severity  ... Nautical_Twilight Astronomical_Twilight\n",
              "0        A-2716600         3  ...             Night                 Night\n",
              "1        A-2716601         2  ...             Night                 Night\n",
              "2        A-2716602         2  ...             Night                   Day\n",
              "3        A-2716603         2  ...             Night                   Day\n",
              "4        A-2716604         2  ...               Day                   Day\n",
              "...            ...       ...  ...               ...                   ...\n",
              "1516059  A-4239402         2  ...               Day                   Day\n",
              "1516060  A-4239403         2  ...               Day                   Day\n",
              "1516061  A-4239404         2  ...               Day                   Day\n",
              "1516062  A-4239405         2  ...               Day                   Day\n",
              "1516063  A-4239406         2  ...               Day                   Day\n",
              "\n",
              "[1516064 rows x 47 columns]"
            ]
          },
          "metadata": {},
          "execution_count": 10
        }
      ]
    },
    {
      "cell_type": "code",
      "metadata": {
        "id": "k73Z-t7L5917",
        "colab": {
          "base_uri": "https://localhost:8080/"
        },
        "outputId": "e0f5833d-2bed-47bc-dc2e-a98e8f30eda1"
      },
      "source": [
        "df.columns"
      ],
      "execution_count": 11,
      "outputs": [
        {
          "output_type": "execute_result",
          "data": {
            "text/plain": [
              "Index(['ID', 'Severity', 'Start_Time', 'End_Time', 'Start_Lat', 'Start_Lng',\n",
              "       'End_Lat', 'End_Lng', 'Distance(mi)', 'Description', 'Number', 'Street',\n",
              "       'Side', 'City', 'County', 'State', 'Zipcode', 'Country', 'Timezone',\n",
              "       'Airport_Code', 'Weather_Timestamp', 'Temperature(F)', 'Wind_Chill(F)',\n",
              "       'Humidity(%)', 'Pressure(in)', 'Visibility(mi)', 'Wind_Direction',\n",
              "       'Wind_Speed(mph)', 'Precipitation(in)', 'Weather_Condition', 'Amenity',\n",
              "       'Bump', 'Crossing', 'Give_Way', 'Junction', 'No_Exit', 'Railway',\n",
              "       'Roundabout', 'Station', 'Stop', 'Traffic_Calming', 'Traffic_Signal',\n",
              "       'Turning_Loop', 'Sunrise_Sunset', 'Civil_Twilight', 'Nautical_Twilight',\n",
              "       'Astronomical_Twilight'],\n",
              "      dtype='object')"
            ]
          },
          "metadata": {},
          "execution_count": 11
        }
      ]
    },
    {
      "cell_type": "code",
      "metadata": {
        "id": "5fDu7bIQ7xm7",
        "colab": {
          "base_uri": "https://localhost:8080/"
        },
        "outputId": "8dc0f60a-6136-424a-a07a-2d4fe2189eca"
      },
      "source": [
        "df.info()"
      ],
      "execution_count": 12,
      "outputs": [
        {
          "output_type": "stream",
          "name": "stdout",
          "text": [
            "<class 'pandas.core.frame.DataFrame'>\n",
            "RangeIndex: 1516064 entries, 0 to 1516063\n",
            "Data columns (total 47 columns):\n",
            " #   Column                 Non-Null Count    Dtype  \n",
            "---  ------                 --------------    -----  \n",
            " 0   ID                     1516064 non-null  object \n",
            " 1   Severity               1516064 non-null  int64  \n",
            " 2   Start_Time             1516064 non-null  object \n",
            " 3   End_Time               1516064 non-null  object \n",
            " 4   Start_Lat              1516064 non-null  float64\n",
            " 5   Start_Lng              1516064 non-null  float64\n",
            " 6   End_Lat                1516064 non-null  float64\n",
            " 7   End_Lng                1516064 non-null  float64\n",
            " 8   Distance(mi)           1516064 non-null  float64\n",
            " 9   Description            1516064 non-null  object \n",
            " 10  Number                 469969 non-null   float64\n",
            " 11  Street                 1516064 non-null  object \n",
            " 12  Side                   1516064 non-null  object \n",
            " 13  City                   1515981 non-null  object \n",
            " 14  County                 1516064 non-null  object \n",
            " 15  State                  1516064 non-null  object \n",
            " 16  Zipcode                1515129 non-null  object \n",
            " 17  Country                1516064 non-null  object \n",
            " 18  Timezone               1513762 non-null  object \n",
            " 19  Airport_Code           1511816 non-null  object \n",
            " 20  Weather_Timestamp      1485800 non-null  object \n",
            " 21  Temperature(F)         1473031 non-null  float64\n",
            " 22  Wind_Chill(F)          1066748 non-null  float64\n",
            " 23  Humidity(%)            1470555 non-null  float64\n",
            " 24  Pressure(in)           1479790 non-null  float64\n",
            " 25  Visibility(mi)         1471853 non-null  float64\n",
            " 26  Wind_Direction         1474206 non-null  object \n",
            " 27  Wind_Speed(mph)        1387202 non-null  float64\n",
            " 28  Precipitation(in)      1005515 non-null  float64\n",
            " 29  Weather_Condition      1472057 non-null  object \n",
            " 30  Amenity                1516064 non-null  bool   \n",
            " 31  Bump                   1516064 non-null  bool   \n",
            " 32  Crossing               1516064 non-null  bool   \n",
            " 33  Give_Way               1516064 non-null  bool   \n",
            " 34  Junction               1516064 non-null  bool   \n",
            " 35  No_Exit                1516064 non-null  bool   \n",
            " 36  Railway                1516064 non-null  bool   \n",
            " 37  Roundabout             1516064 non-null  bool   \n",
            " 38  Station                1516064 non-null  bool   \n",
            " 39  Stop                   1516064 non-null  bool   \n",
            " 40  Traffic_Calming        1516064 non-null  bool   \n",
            " 41  Traffic_Signal         1516064 non-null  bool   \n",
            " 42  Turning_Loop           1516064 non-null  bool   \n",
            " 43  Sunrise_Sunset         1515981 non-null  object \n",
            " 44  Civil_Twilight         1515981 non-null  object \n",
            " 45  Nautical_Twilight      1515981 non-null  object \n",
            " 46  Astronomical_Twilight  1515981 non-null  object \n",
            "dtypes: bool(13), float64(13), int64(1), object(20)\n",
            "memory usage: 412.1+ MB\n"
          ]
        }
      ]
    },
    {
      "cell_type": "code",
      "metadata": {
        "id": "cu6oGM118fiy",
        "colab": {
          "base_uri": "https://localhost:8080/",
          "height": 315
        },
        "outputId": "24df1df9-624b-49be-e5e1-db54dfd913eb"
      },
      "source": [
        "df.describe()"
      ],
      "execution_count": 13,
      "outputs": [
        {
          "output_type": "execute_result",
          "data": {
            "text/html": [
              "<div>\n",
              "<style scoped>\n",
              "    .dataframe tbody tr th:only-of-type {\n",
              "        vertical-align: middle;\n",
              "    }\n",
              "\n",
              "    .dataframe tbody tr th {\n",
              "        vertical-align: top;\n",
              "    }\n",
              "\n",
              "    .dataframe thead th {\n",
              "        text-align: right;\n",
              "    }\n",
              "</style>\n",
              "<table border=\"1\" class=\"dataframe\">\n",
              "  <thead>\n",
              "    <tr style=\"text-align: right;\">\n",
              "      <th></th>\n",
              "      <th>Severity</th>\n",
              "      <th>Start_Lat</th>\n",
              "      <th>Start_Lng</th>\n",
              "      <th>End_Lat</th>\n",
              "      <th>End_Lng</th>\n",
              "      <th>Distance(mi)</th>\n",
              "      <th>Number</th>\n",
              "      <th>Temperature(F)</th>\n",
              "      <th>Wind_Chill(F)</th>\n",
              "      <th>Humidity(%)</th>\n",
              "      <th>Pressure(in)</th>\n",
              "      <th>Visibility(mi)</th>\n",
              "      <th>Wind_Speed(mph)</th>\n",
              "      <th>Precipitation(in)</th>\n",
              "    </tr>\n",
              "  </thead>\n",
              "  <tbody>\n",
              "    <tr>\n",
              "      <th>count</th>\n",
              "      <td>1.516064e+06</td>\n",
              "      <td>1.516064e+06</td>\n",
              "      <td>1.516064e+06</td>\n",
              "      <td>1.516064e+06</td>\n",
              "      <td>1.516064e+06</td>\n",
              "      <td>1.516064e+06</td>\n",
              "      <td>4.699690e+05</td>\n",
              "      <td>1.473031e+06</td>\n",
              "      <td>1.066748e+06</td>\n",
              "      <td>1.470555e+06</td>\n",
              "      <td>1.479790e+06</td>\n",
              "      <td>1.471853e+06</td>\n",
              "      <td>1.387202e+06</td>\n",
              "      <td>1.005515e+06</td>\n",
              "    </tr>\n",
              "    <tr>\n",
              "      <th>mean</th>\n",
              "      <td>2.238630e+00</td>\n",
              "      <td>3.690056e+01</td>\n",
              "      <td>-9.859919e+01</td>\n",
              "      <td>3.690061e+01</td>\n",
              "      <td>-9.859901e+01</td>\n",
              "      <td>5.872617e-01</td>\n",
              "      <td>8.907533e+03</td>\n",
              "      <td>5.958460e+01</td>\n",
              "      <td>5.510976e+01</td>\n",
              "      <td>6.465960e+01</td>\n",
              "      <td>2.955495e+01</td>\n",
              "      <td>9.131755e+00</td>\n",
              "      <td>7.630812e+00</td>\n",
              "      <td>8.477855e-03</td>\n",
              "    </tr>\n",
              "    <tr>\n",
              "      <th>std</th>\n",
              "      <td>6.081481e-01</td>\n",
              "      <td>5.165653e+00</td>\n",
              "      <td>1.849602e+01</td>\n",
              "      <td>5.165629e+00</td>\n",
              "      <td>1.849590e+01</td>\n",
              "      <td>1.632659e+00</td>\n",
              "      <td>2.242190e+04</td>\n",
              "      <td>1.827316e+01</td>\n",
              "      <td>2.112735e+01</td>\n",
              "      <td>2.325986e+01</td>\n",
              "      <td>1.016756e+00</td>\n",
              "      <td>2.889112e+00</td>\n",
              "      <td>5.637364e+00</td>\n",
              "      <td>1.293168e-01</td>\n",
              "    </tr>\n",
              "    <tr>\n",
              "      <th>min</th>\n",
              "      <td>1.000000e+00</td>\n",
              "      <td>2.457022e+01</td>\n",
              "      <td>-1.244976e+02</td>\n",
              "      <td>2.457011e+01</td>\n",
              "      <td>-1.244978e+02</td>\n",
              "      <td>0.000000e+00</td>\n",
              "      <td>0.000000e+00</td>\n",
              "      <td>-8.900000e+01</td>\n",
              "      <td>-8.900000e+01</td>\n",
              "      <td>1.000000e+00</td>\n",
              "      <td>0.000000e+00</td>\n",
              "      <td>0.000000e+00</td>\n",
              "      <td>0.000000e+00</td>\n",
              "      <td>0.000000e+00</td>\n",
              "    </tr>\n",
              "    <tr>\n",
              "      <th>25%</th>\n",
              "      <td>2.000000e+00</td>\n",
              "      <td>3.385422e+01</td>\n",
              "      <td>-1.182076e+02</td>\n",
              "      <td>3.385420e+01</td>\n",
              "      <td>-1.182077e+02</td>\n",
              "      <td>0.000000e+00</td>\n",
              "      <td>1.212000e+03</td>\n",
              "      <td>4.700000e+01</td>\n",
              "      <td>4.080000e+01</td>\n",
              "      <td>4.800000e+01</td>\n",
              "      <td>2.944000e+01</td>\n",
              "      <td>1.000000e+01</td>\n",
              "      <td>4.600000e+00</td>\n",
              "      <td>0.000000e+00</td>\n",
              "    </tr>\n",
              "    <tr>\n",
              "      <th>50%</th>\n",
              "      <td>2.000000e+00</td>\n",
              "      <td>3.735113e+01</td>\n",
              "      <td>-9.438100e+01</td>\n",
              "      <td>3.735134e+01</td>\n",
              "      <td>-9.437987e+01</td>\n",
              "      <td>1.780000e-01</td>\n",
              "      <td>4.000000e+03</td>\n",
              "      <td>6.100000e+01</td>\n",
              "      <td>5.700000e+01</td>\n",
              "      <td>6.800000e+01</td>\n",
              "      <td>2.988000e+01</td>\n",
              "      <td>1.000000e+01</td>\n",
              "      <td>7.000000e+00</td>\n",
              "      <td>0.000000e+00</td>\n",
              "    </tr>\n",
              "    <tr>\n",
              "      <th>75%</th>\n",
              "      <td>2.000000e+00</td>\n",
              "      <td>4.072593e+01</td>\n",
              "      <td>-8.087469e+01</td>\n",
              "      <td>4.072593e+01</td>\n",
              "      <td>-8.087449e+01</td>\n",
              "      <td>5.940000e-01</td>\n",
              "      <td>1.010000e+04</td>\n",
              "      <td>7.300000e+01</td>\n",
              "      <td>7.100000e+01</td>\n",
              "      <td>8.400000e+01</td>\n",
              "      <td>3.004000e+01</td>\n",
              "      <td>1.000000e+01</td>\n",
              "      <td>1.040000e+01</td>\n",
              "      <td>0.000000e+00</td>\n",
              "    </tr>\n",
              "    <tr>\n",
              "      <th>max</th>\n",
              "      <td>4.000000e+00</td>\n",
              "      <td>4.900058e+01</td>\n",
              "      <td>-6.711317e+01</td>\n",
              "      <td>4.907500e+01</td>\n",
              "      <td>-6.710924e+01</td>\n",
              "      <td>1.551860e+02</td>\n",
              "      <td>9.999997e+06</td>\n",
              "      <td>1.706000e+02</td>\n",
              "      <td>1.130000e+02</td>\n",
              "      <td>1.000000e+02</td>\n",
              "      <td>5.804000e+01</td>\n",
              "      <td>1.400000e+02</td>\n",
              "      <td>9.840000e+02</td>\n",
              "      <td>2.400000e+01</td>\n",
              "    </tr>\n",
              "  </tbody>\n",
              "</table>\n",
              "</div>"
            ],
            "text/plain": [
              "           Severity     Start_Lat  ...  Wind_Speed(mph)  Precipitation(in)\n",
              "count  1.516064e+06  1.516064e+06  ...     1.387202e+06       1.005515e+06\n",
              "mean   2.238630e+00  3.690056e+01  ...     7.630812e+00       8.477855e-03\n",
              "std    6.081481e-01  5.165653e+00  ...     5.637364e+00       1.293168e-01\n",
              "min    1.000000e+00  2.457022e+01  ...     0.000000e+00       0.000000e+00\n",
              "25%    2.000000e+00  3.385422e+01  ...     4.600000e+00       0.000000e+00\n",
              "50%    2.000000e+00  3.735113e+01  ...     7.000000e+00       0.000000e+00\n",
              "75%    2.000000e+00  4.072593e+01  ...     1.040000e+01       0.000000e+00\n",
              "max    4.000000e+00  4.900058e+01  ...     9.840000e+02       2.400000e+01\n",
              "\n",
              "[8 rows x 14 columns]"
            ]
          },
          "metadata": {},
          "execution_count": 13
        }
      ]
    },
    {
      "cell_type": "markdown",
      "metadata": {
        "id": "zqtuqS0-cTiP"
      },
      "source": [
        "Finding the number of columns with numerical data"
      ]
    },
    {
      "cell_type": "code",
      "metadata": {
        "id": "dETpRBEZaaum"
      },
      "source": [
        "numerics = ['int16', 'int32', 'int64', 'float16', 'float32', 'float64']\n",
        "\n",
        "numericsdf = df.select_dtypes(include=numerics)"
      ],
      "execution_count": 14,
      "outputs": []
    },
    {
      "cell_type": "code",
      "metadata": {
        "id": "v7pkQrHbaazX",
        "colab": {
          "base_uri": "https://localhost:8080/"
        },
        "outputId": "f84323a2-a89e-40d1-cd8e-f98782557b45"
      },
      "source": [
        "len(numericsdf.columns)"
      ],
      "execution_count": 15,
      "outputs": [
        {
          "output_type": "execute_result",
          "data": {
            "text/plain": [
              "14"
            ]
          },
          "metadata": {},
          "execution_count": 15
        }
      ]
    },
    {
      "cell_type": "markdown",
      "metadata": {
        "id": "ZrmUydCXcco1"
      },
      "source": [
        "Count missing values per column, null values replaced with true"
      ]
    },
    {
      "cell_type": "code",
      "metadata": {
        "id": "iejBuWcFaa1Z",
        "colab": {
          "base_uri": "https://localhost:8080/",
          "height": 437
        },
        "outputId": "b3e85451-0b15-49fe-8f74-9baf03e08286"
      },
      "source": [
        "df.isna()"
      ],
      "execution_count": 16,
      "outputs": [
        {
          "output_type": "execute_result",
          "data": {
            "text/html": [
              "<div>\n",
              "<style scoped>\n",
              "    .dataframe tbody tr th:only-of-type {\n",
              "        vertical-align: middle;\n",
              "    }\n",
              "\n",
              "    .dataframe tbody tr th {\n",
              "        vertical-align: top;\n",
              "    }\n",
              "\n",
              "    .dataframe thead th {\n",
              "        text-align: right;\n",
              "    }\n",
              "</style>\n",
              "<table border=\"1\" class=\"dataframe\">\n",
              "  <thead>\n",
              "    <tr style=\"text-align: right;\">\n",
              "      <th></th>\n",
              "      <th>ID</th>\n",
              "      <th>Severity</th>\n",
              "      <th>Start_Time</th>\n",
              "      <th>End_Time</th>\n",
              "      <th>Start_Lat</th>\n",
              "      <th>Start_Lng</th>\n",
              "      <th>End_Lat</th>\n",
              "      <th>End_Lng</th>\n",
              "      <th>Distance(mi)</th>\n",
              "      <th>Description</th>\n",
              "      <th>Number</th>\n",
              "      <th>Street</th>\n",
              "      <th>Side</th>\n",
              "      <th>City</th>\n",
              "      <th>County</th>\n",
              "      <th>State</th>\n",
              "      <th>Zipcode</th>\n",
              "      <th>Country</th>\n",
              "      <th>Timezone</th>\n",
              "      <th>Airport_Code</th>\n",
              "      <th>Weather_Timestamp</th>\n",
              "      <th>Temperature(F)</th>\n",
              "      <th>Wind_Chill(F)</th>\n",
              "      <th>Humidity(%)</th>\n",
              "      <th>Pressure(in)</th>\n",
              "      <th>Visibility(mi)</th>\n",
              "      <th>Wind_Direction</th>\n",
              "      <th>Wind_Speed(mph)</th>\n",
              "      <th>Precipitation(in)</th>\n",
              "      <th>Weather_Condition</th>\n",
              "      <th>Amenity</th>\n",
              "      <th>Bump</th>\n",
              "      <th>Crossing</th>\n",
              "      <th>Give_Way</th>\n",
              "      <th>Junction</th>\n",
              "      <th>No_Exit</th>\n",
              "      <th>Railway</th>\n",
              "      <th>Roundabout</th>\n",
              "      <th>Station</th>\n",
              "      <th>Stop</th>\n",
              "      <th>Traffic_Calming</th>\n",
              "      <th>Traffic_Signal</th>\n",
              "      <th>Turning_Loop</th>\n",
              "      <th>Sunrise_Sunset</th>\n",
              "      <th>Civil_Twilight</th>\n",
              "      <th>Nautical_Twilight</th>\n",
              "      <th>Astronomical_Twilight</th>\n",
              "    </tr>\n",
              "  </thead>\n",
              "  <tbody>\n",
              "    <tr>\n",
              "      <th>0</th>\n",
              "      <td>False</td>\n",
              "      <td>False</td>\n",
              "      <td>False</td>\n",
              "      <td>False</td>\n",
              "      <td>False</td>\n",
              "      <td>False</td>\n",
              "      <td>False</td>\n",
              "      <td>False</td>\n",
              "      <td>False</td>\n",
              "      <td>False</td>\n",
              "      <td>True</td>\n",
              "      <td>False</td>\n",
              "      <td>False</td>\n",
              "      <td>False</td>\n",
              "      <td>False</td>\n",
              "      <td>False</td>\n",
              "      <td>False</td>\n",
              "      <td>False</td>\n",
              "      <td>False</td>\n",
              "      <td>False</td>\n",
              "      <td>False</td>\n",
              "      <td>False</td>\n",
              "      <td>False</td>\n",
              "      <td>False</td>\n",
              "      <td>False</td>\n",
              "      <td>False</td>\n",
              "      <td>False</td>\n",
              "      <td>False</td>\n",
              "      <td>False</td>\n",
              "      <td>False</td>\n",
              "      <td>False</td>\n",
              "      <td>False</td>\n",
              "      <td>False</td>\n",
              "      <td>False</td>\n",
              "      <td>False</td>\n",
              "      <td>False</td>\n",
              "      <td>False</td>\n",
              "      <td>False</td>\n",
              "      <td>False</td>\n",
              "      <td>False</td>\n",
              "      <td>False</td>\n",
              "      <td>False</td>\n",
              "      <td>False</td>\n",
              "      <td>False</td>\n",
              "      <td>False</td>\n",
              "      <td>False</td>\n",
              "      <td>False</td>\n",
              "    </tr>\n",
              "    <tr>\n",
              "      <th>1</th>\n",
              "      <td>False</td>\n",
              "      <td>False</td>\n",
              "      <td>False</td>\n",
              "      <td>False</td>\n",
              "      <td>False</td>\n",
              "      <td>False</td>\n",
              "      <td>False</td>\n",
              "      <td>False</td>\n",
              "      <td>False</td>\n",
              "      <td>False</td>\n",
              "      <td>True</td>\n",
              "      <td>False</td>\n",
              "      <td>False</td>\n",
              "      <td>False</td>\n",
              "      <td>False</td>\n",
              "      <td>False</td>\n",
              "      <td>False</td>\n",
              "      <td>False</td>\n",
              "      <td>False</td>\n",
              "      <td>False</td>\n",
              "      <td>False</td>\n",
              "      <td>False</td>\n",
              "      <td>True</td>\n",
              "      <td>False</td>\n",
              "      <td>False</td>\n",
              "      <td>False</td>\n",
              "      <td>False</td>\n",
              "      <td>True</td>\n",
              "      <td>False</td>\n",
              "      <td>False</td>\n",
              "      <td>False</td>\n",
              "      <td>False</td>\n",
              "      <td>False</td>\n",
              "      <td>False</td>\n",
              "      <td>False</td>\n",
              "      <td>False</td>\n",
              "      <td>False</td>\n",
              "      <td>False</td>\n",
              "      <td>False</td>\n",
              "      <td>False</td>\n",
              "      <td>False</td>\n",
              "      <td>False</td>\n",
              "      <td>False</td>\n",
              "      <td>False</td>\n",
              "      <td>False</td>\n",
              "      <td>False</td>\n",
              "      <td>False</td>\n",
              "    </tr>\n",
              "    <tr>\n",
              "      <th>2</th>\n",
              "      <td>False</td>\n",
              "      <td>False</td>\n",
              "      <td>False</td>\n",
              "      <td>False</td>\n",
              "      <td>False</td>\n",
              "      <td>False</td>\n",
              "      <td>False</td>\n",
              "      <td>False</td>\n",
              "      <td>False</td>\n",
              "      <td>False</td>\n",
              "      <td>True</td>\n",
              "      <td>False</td>\n",
              "      <td>False</td>\n",
              "      <td>False</td>\n",
              "      <td>False</td>\n",
              "      <td>False</td>\n",
              "      <td>False</td>\n",
              "      <td>False</td>\n",
              "      <td>False</td>\n",
              "      <td>False</td>\n",
              "      <td>False</td>\n",
              "      <td>False</td>\n",
              "      <td>True</td>\n",
              "      <td>False</td>\n",
              "      <td>False</td>\n",
              "      <td>False</td>\n",
              "      <td>False</td>\n",
              "      <td>True</td>\n",
              "      <td>False</td>\n",
              "      <td>False</td>\n",
              "      <td>False</td>\n",
              "      <td>False</td>\n",
              "      <td>False</td>\n",
              "      <td>False</td>\n",
              "      <td>False</td>\n",
              "      <td>False</td>\n",
              "      <td>False</td>\n",
              "      <td>False</td>\n",
              "      <td>False</td>\n",
              "      <td>False</td>\n",
              "      <td>False</td>\n",
              "      <td>False</td>\n",
              "      <td>False</td>\n",
              "      <td>False</td>\n",
              "      <td>False</td>\n",
              "      <td>False</td>\n",
              "      <td>False</td>\n",
              "    </tr>\n",
              "    <tr>\n",
              "      <th>3</th>\n",
              "      <td>False</td>\n",
              "      <td>False</td>\n",
              "      <td>False</td>\n",
              "      <td>False</td>\n",
              "      <td>False</td>\n",
              "      <td>False</td>\n",
              "      <td>False</td>\n",
              "      <td>False</td>\n",
              "      <td>False</td>\n",
              "      <td>False</td>\n",
              "      <td>True</td>\n",
              "      <td>False</td>\n",
              "      <td>False</td>\n",
              "      <td>False</td>\n",
              "      <td>False</td>\n",
              "      <td>False</td>\n",
              "      <td>False</td>\n",
              "      <td>False</td>\n",
              "      <td>False</td>\n",
              "      <td>False</td>\n",
              "      <td>False</td>\n",
              "      <td>False</td>\n",
              "      <td>True</td>\n",
              "      <td>False</td>\n",
              "      <td>False</td>\n",
              "      <td>False</td>\n",
              "      <td>False</td>\n",
              "      <td>True</td>\n",
              "      <td>False</td>\n",
              "      <td>False</td>\n",
              "      <td>False</td>\n",
              "      <td>False</td>\n",
              "      <td>False</td>\n",
              "      <td>False</td>\n",
              "      <td>False</td>\n",
              "      <td>False</td>\n",
              "      <td>False</td>\n",
              "      <td>False</td>\n",
              "      <td>False</td>\n",
              "      <td>False</td>\n",
              "      <td>False</td>\n",
              "      <td>False</td>\n",
              "      <td>False</td>\n",
              "      <td>False</td>\n",
              "      <td>False</td>\n",
              "      <td>False</td>\n",
              "      <td>False</td>\n",
              "    </tr>\n",
              "    <tr>\n",
              "      <th>4</th>\n",
              "      <td>False</td>\n",
              "      <td>False</td>\n",
              "      <td>False</td>\n",
              "      <td>False</td>\n",
              "      <td>False</td>\n",
              "      <td>False</td>\n",
              "      <td>False</td>\n",
              "      <td>False</td>\n",
              "      <td>False</td>\n",
              "      <td>False</td>\n",
              "      <td>True</td>\n",
              "      <td>False</td>\n",
              "      <td>False</td>\n",
              "      <td>False</td>\n",
              "      <td>False</td>\n",
              "      <td>False</td>\n",
              "      <td>False</td>\n",
              "      <td>False</td>\n",
              "      <td>False</td>\n",
              "      <td>False</td>\n",
              "      <td>False</td>\n",
              "      <td>False</td>\n",
              "      <td>True</td>\n",
              "      <td>False</td>\n",
              "      <td>False</td>\n",
              "      <td>False</td>\n",
              "      <td>False</td>\n",
              "      <td>True</td>\n",
              "      <td>True</td>\n",
              "      <td>False</td>\n",
              "      <td>False</td>\n",
              "      <td>False</td>\n",
              "      <td>False</td>\n",
              "      <td>False</td>\n",
              "      <td>False</td>\n",
              "      <td>False</td>\n",
              "      <td>False</td>\n",
              "      <td>False</td>\n",
              "      <td>False</td>\n",
              "      <td>False</td>\n",
              "      <td>False</td>\n",
              "      <td>False</td>\n",
              "      <td>False</td>\n",
              "      <td>False</td>\n",
              "      <td>False</td>\n",
              "      <td>False</td>\n",
              "      <td>False</td>\n",
              "    </tr>\n",
              "    <tr>\n",
              "      <th>...</th>\n",
              "      <td>...</td>\n",
              "      <td>...</td>\n",
              "      <td>...</td>\n",
              "      <td>...</td>\n",
              "      <td>...</td>\n",
              "      <td>...</td>\n",
              "      <td>...</td>\n",
              "      <td>...</td>\n",
              "      <td>...</td>\n",
              "      <td>...</td>\n",
              "      <td>...</td>\n",
              "      <td>...</td>\n",
              "      <td>...</td>\n",
              "      <td>...</td>\n",
              "      <td>...</td>\n",
              "      <td>...</td>\n",
              "      <td>...</td>\n",
              "      <td>...</td>\n",
              "      <td>...</td>\n",
              "      <td>...</td>\n",
              "      <td>...</td>\n",
              "      <td>...</td>\n",
              "      <td>...</td>\n",
              "      <td>...</td>\n",
              "      <td>...</td>\n",
              "      <td>...</td>\n",
              "      <td>...</td>\n",
              "      <td>...</td>\n",
              "      <td>...</td>\n",
              "      <td>...</td>\n",
              "      <td>...</td>\n",
              "      <td>...</td>\n",
              "      <td>...</td>\n",
              "      <td>...</td>\n",
              "      <td>...</td>\n",
              "      <td>...</td>\n",
              "      <td>...</td>\n",
              "      <td>...</td>\n",
              "      <td>...</td>\n",
              "      <td>...</td>\n",
              "      <td>...</td>\n",
              "      <td>...</td>\n",
              "      <td>...</td>\n",
              "      <td>...</td>\n",
              "      <td>...</td>\n",
              "      <td>...</td>\n",
              "      <td>...</td>\n",
              "    </tr>\n",
              "    <tr>\n",
              "      <th>1516059</th>\n",
              "      <td>False</td>\n",
              "      <td>False</td>\n",
              "      <td>False</td>\n",
              "      <td>False</td>\n",
              "      <td>False</td>\n",
              "      <td>False</td>\n",
              "      <td>False</td>\n",
              "      <td>False</td>\n",
              "      <td>False</td>\n",
              "      <td>False</td>\n",
              "      <td>True</td>\n",
              "      <td>False</td>\n",
              "      <td>False</td>\n",
              "      <td>False</td>\n",
              "      <td>False</td>\n",
              "      <td>False</td>\n",
              "      <td>False</td>\n",
              "      <td>False</td>\n",
              "      <td>False</td>\n",
              "      <td>False</td>\n",
              "      <td>False</td>\n",
              "      <td>False</td>\n",
              "      <td>False</td>\n",
              "      <td>False</td>\n",
              "      <td>False</td>\n",
              "      <td>False</td>\n",
              "      <td>False</td>\n",
              "      <td>False</td>\n",
              "      <td>False</td>\n",
              "      <td>False</td>\n",
              "      <td>False</td>\n",
              "      <td>False</td>\n",
              "      <td>False</td>\n",
              "      <td>False</td>\n",
              "      <td>False</td>\n",
              "      <td>False</td>\n",
              "      <td>False</td>\n",
              "      <td>False</td>\n",
              "      <td>False</td>\n",
              "      <td>False</td>\n",
              "      <td>False</td>\n",
              "      <td>False</td>\n",
              "      <td>False</td>\n",
              "      <td>False</td>\n",
              "      <td>False</td>\n",
              "      <td>False</td>\n",
              "      <td>False</td>\n",
              "    </tr>\n",
              "    <tr>\n",
              "      <th>1516060</th>\n",
              "      <td>False</td>\n",
              "      <td>False</td>\n",
              "      <td>False</td>\n",
              "      <td>False</td>\n",
              "      <td>False</td>\n",
              "      <td>False</td>\n",
              "      <td>False</td>\n",
              "      <td>False</td>\n",
              "      <td>False</td>\n",
              "      <td>False</td>\n",
              "      <td>True</td>\n",
              "      <td>False</td>\n",
              "      <td>False</td>\n",
              "      <td>False</td>\n",
              "      <td>False</td>\n",
              "      <td>False</td>\n",
              "      <td>False</td>\n",
              "      <td>False</td>\n",
              "      <td>False</td>\n",
              "      <td>False</td>\n",
              "      <td>False</td>\n",
              "      <td>False</td>\n",
              "      <td>False</td>\n",
              "      <td>False</td>\n",
              "      <td>False</td>\n",
              "      <td>False</td>\n",
              "      <td>False</td>\n",
              "      <td>False</td>\n",
              "      <td>False</td>\n",
              "      <td>False</td>\n",
              "      <td>False</td>\n",
              "      <td>False</td>\n",
              "      <td>False</td>\n",
              "      <td>False</td>\n",
              "      <td>False</td>\n",
              "      <td>False</td>\n",
              "      <td>False</td>\n",
              "      <td>False</td>\n",
              "      <td>False</td>\n",
              "      <td>False</td>\n",
              "      <td>False</td>\n",
              "      <td>False</td>\n",
              "      <td>False</td>\n",
              "      <td>False</td>\n",
              "      <td>False</td>\n",
              "      <td>False</td>\n",
              "      <td>False</td>\n",
              "    </tr>\n",
              "    <tr>\n",
              "      <th>1516061</th>\n",
              "      <td>False</td>\n",
              "      <td>False</td>\n",
              "      <td>False</td>\n",
              "      <td>False</td>\n",
              "      <td>False</td>\n",
              "      <td>False</td>\n",
              "      <td>False</td>\n",
              "      <td>False</td>\n",
              "      <td>False</td>\n",
              "      <td>False</td>\n",
              "      <td>True</td>\n",
              "      <td>False</td>\n",
              "      <td>False</td>\n",
              "      <td>False</td>\n",
              "      <td>False</td>\n",
              "      <td>False</td>\n",
              "      <td>False</td>\n",
              "      <td>False</td>\n",
              "      <td>False</td>\n",
              "      <td>False</td>\n",
              "      <td>False</td>\n",
              "      <td>False</td>\n",
              "      <td>False</td>\n",
              "      <td>False</td>\n",
              "      <td>False</td>\n",
              "      <td>False</td>\n",
              "      <td>False</td>\n",
              "      <td>False</td>\n",
              "      <td>False</td>\n",
              "      <td>False</td>\n",
              "      <td>False</td>\n",
              "      <td>False</td>\n",
              "      <td>False</td>\n",
              "      <td>False</td>\n",
              "      <td>False</td>\n",
              "      <td>False</td>\n",
              "      <td>False</td>\n",
              "      <td>False</td>\n",
              "      <td>False</td>\n",
              "      <td>False</td>\n",
              "      <td>False</td>\n",
              "      <td>False</td>\n",
              "      <td>False</td>\n",
              "      <td>False</td>\n",
              "      <td>False</td>\n",
              "      <td>False</td>\n",
              "      <td>False</td>\n",
              "    </tr>\n",
              "    <tr>\n",
              "      <th>1516062</th>\n",
              "      <td>False</td>\n",
              "      <td>False</td>\n",
              "      <td>False</td>\n",
              "      <td>False</td>\n",
              "      <td>False</td>\n",
              "      <td>False</td>\n",
              "      <td>False</td>\n",
              "      <td>False</td>\n",
              "      <td>False</td>\n",
              "      <td>False</td>\n",
              "      <td>True</td>\n",
              "      <td>False</td>\n",
              "      <td>False</td>\n",
              "      <td>False</td>\n",
              "      <td>False</td>\n",
              "      <td>False</td>\n",
              "      <td>False</td>\n",
              "      <td>False</td>\n",
              "      <td>False</td>\n",
              "      <td>False</td>\n",
              "      <td>False</td>\n",
              "      <td>False</td>\n",
              "      <td>False</td>\n",
              "      <td>False</td>\n",
              "      <td>False</td>\n",
              "      <td>False</td>\n",
              "      <td>False</td>\n",
              "      <td>False</td>\n",
              "      <td>False</td>\n",
              "      <td>False</td>\n",
              "      <td>False</td>\n",
              "      <td>False</td>\n",
              "      <td>False</td>\n",
              "      <td>False</td>\n",
              "      <td>False</td>\n",
              "      <td>False</td>\n",
              "      <td>False</td>\n",
              "      <td>False</td>\n",
              "      <td>False</td>\n",
              "      <td>False</td>\n",
              "      <td>False</td>\n",
              "      <td>False</td>\n",
              "      <td>False</td>\n",
              "      <td>False</td>\n",
              "      <td>False</td>\n",
              "      <td>False</td>\n",
              "      <td>False</td>\n",
              "    </tr>\n",
              "    <tr>\n",
              "      <th>1516063</th>\n",
              "      <td>False</td>\n",
              "      <td>False</td>\n",
              "      <td>False</td>\n",
              "      <td>False</td>\n",
              "      <td>False</td>\n",
              "      <td>False</td>\n",
              "      <td>False</td>\n",
              "      <td>False</td>\n",
              "      <td>False</td>\n",
              "      <td>False</td>\n",
              "      <td>True</td>\n",
              "      <td>False</td>\n",
              "      <td>False</td>\n",
              "      <td>False</td>\n",
              "      <td>False</td>\n",
              "      <td>False</td>\n",
              "      <td>False</td>\n",
              "      <td>False</td>\n",
              "      <td>False</td>\n",
              "      <td>False</td>\n",
              "      <td>False</td>\n",
              "      <td>False</td>\n",
              "      <td>False</td>\n",
              "      <td>False</td>\n",
              "      <td>False</td>\n",
              "      <td>False</td>\n",
              "      <td>False</td>\n",
              "      <td>False</td>\n",
              "      <td>False</td>\n",
              "      <td>False</td>\n",
              "      <td>False</td>\n",
              "      <td>False</td>\n",
              "      <td>False</td>\n",
              "      <td>False</td>\n",
              "      <td>False</td>\n",
              "      <td>False</td>\n",
              "      <td>False</td>\n",
              "      <td>False</td>\n",
              "      <td>False</td>\n",
              "      <td>False</td>\n",
              "      <td>False</td>\n",
              "      <td>False</td>\n",
              "      <td>False</td>\n",
              "      <td>False</td>\n",
              "      <td>False</td>\n",
              "      <td>False</td>\n",
              "      <td>False</td>\n",
              "    </tr>\n",
              "  </tbody>\n",
              "</table>\n",
              "<p>1516064 rows × 47 columns</p>\n",
              "</div>"
            ],
            "text/plain": [
              "            ID  Severity  ...  Nautical_Twilight  Astronomical_Twilight\n",
              "0        False     False  ...              False                  False\n",
              "1        False     False  ...              False                  False\n",
              "2        False     False  ...              False                  False\n",
              "3        False     False  ...              False                  False\n",
              "4        False     False  ...              False                  False\n",
              "...        ...       ...  ...                ...                    ...\n",
              "1516059  False     False  ...              False                  False\n",
              "1516060  False     False  ...              False                  False\n",
              "1516061  False     False  ...              False                  False\n",
              "1516062  False     False  ...              False                  False\n",
              "1516063  False     False  ...              False                  False\n",
              "\n",
              "[1516064 rows x 47 columns]"
            ]
          },
          "metadata": {},
          "execution_count": 16
        }
      ]
    },
    {
      "cell_type": "markdown",
      "metadata": {
        "id": "7p9UEqlydJ0X"
      },
      "source": [
        "Count number of na values in each column"
      ]
    },
    {
      "cell_type": "code",
      "metadata": {
        "id": "29T5g4jZaa3p",
        "colab": {
          "base_uri": "https://localhost:8080/"
        },
        "outputId": "487d9bf1-b697-4f5e-c387-47a1b2f5f55e"
      },
      "source": [
        "df.isna().sum()"
      ],
      "execution_count": 17,
      "outputs": [
        {
          "output_type": "execute_result",
          "data": {
            "text/plain": [
              "ID                             0\n",
              "Severity                       0\n",
              "Start_Time                     0\n",
              "End_Time                       0\n",
              "Start_Lat                      0\n",
              "Start_Lng                      0\n",
              "End_Lat                        0\n",
              "End_Lng                        0\n",
              "Distance(mi)                   0\n",
              "Description                    0\n",
              "Number                   1046095\n",
              "Street                         0\n",
              "Side                           0\n",
              "City                          83\n",
              "County                         0\n",
              "State                          0\n",
              "Zipcode                      935\n",
              "Country                        0\n",
              "Timezone                    2302\n",
              "Airport_Code                4248\n",
              "Weather_Timestamp          30264\n",
              "Temperature(F)             43033\n",
              "Wind_Chill(F)             449316\n",
              "Humidity(%)                45509\n",
              "Pressure(in)               36274\n",
              "Visibility(mi)             44211\n",
              "Wind_Direction             41858\n",
              "Wind_Speed(mph)           128862\n",
              "Precipitation(in)         510549\n",
              "Weather_Condition          44007\n",
              "Amenity                        0\n",
              "Bump                           0\n",
              "Crossing                       0\n",
              "Give_Way                       0\n",
              "Junction                       0\n",
              "No_Exit                        0\n",
              "Railway                        0\n",
              "Roundabout                     0\n",
              "Station                        0\n",
              "Stop                           0\n",
              "Traffic_Calming                0\n",
              "Traffic_Signal                 0\n",
              "Turning_Loop                   0\n",
              "Sunrise_Sunset                83\n",
              "Civil_Twilight                83\n",
              "Nautical_Twilight             83\n",
              "Astronomical_Twilight         83\n",
              "dtype: int64"
            ]
          },
          "metadata": {},
          "execution_count": 17
        }
      ]
    },
    {
      "cell_type": "markdown",
      "metadata": {
        "id": "pRayVH7tdNSf"
      },
      "source": [
        "Percentage of missing valus per column"
      ]
    },
    {
      "cell_type": "code",
      "metadata": {
        "id": "Bh4VW7iS8iZj",
        "colab": {
          "base_uri": "https://localhost:8080/"
        },
        "outputId": "8df3ea26-18c8-43d1-bbf0-57dc9af59efd"
      },
      "source": [
        "missing_percentages = df.isna().sum().sort_values(ascending = False)/len(df)\n",
        "missing_percentages"
      ],
      "execution_count": 18,
      "outputs": [
        {
          "output_type": "execute_result",
          "data": {
            "text/plain": [
              "Number                   0.690007\n",
              "Precipitation(in)        0.336760\n",
              "Wind_Chill(F)            0.296370\n",
              "Wind_Speed(mph)          0.084998\n",
              "Humidity(%)              0.030018\n",
              "Visibility(mi)           0.029162\n",
              "Weather_Condition        0.029027\n",
              "Temperature(F)           0.028385\n",
              "Wind_Direction           0.027610\n",
              "Pressure(in)             0.023926\n",
              "Weather_Timestamp        0.019962\n",
              "Airport_Code             0.002802\n",
              "Timezone                 0.001518\n",
              "Zipcode                  0.000617\n",
              "City                     0.000055\n",
              "Nautical_Twilight        0.000055\n",
              "Astronomical_Twilight    0.000055\n",
              "Civil_Twilight           0.000055\n",
              "Sunrise_Sunset           0.000055\n",
              "Amenity                  0.000000\n",
              "Bump                     0.000000\n",
              "Severity                 0.000000\n",
              "Start_Time               0.000000\n",
              "End_Time                 0.000000\n",
              "Start_Lat                0.000000\n",
              "Start_Lng                0.000000\n",
              "End_Lat                  0.000000\n",
              "End_Lng                  0.000000\n",
              "Distance(mi)             0.000000\n",
              "Description              0.000000\n",
              "Street                   0.000000\n",
              "Side                     0.000000\n",
              "County                   0.000000\n",
              "State                    0.000000\n",
              "Turning_Loop             0.000000\n",
              "Country                  0.000000\n",
              "Traffic_Signal           0.000000\n",
              "Traffic_Calming          0.000000\n",
              "Stop                     0.000000\n",
              "Station                  0.000000\n",
              "Roundabout               0.000000\n",
              "Railway                  0.000000\n",
              "No_Exit                  0.000000\n",
              "Junction                 0.000000\n",
              "Give_Way                 0.000000\n",
              "Crossing                 0.000000\n",
              "ID                       0.000000\n",
              "dtype: float64"
            ]
          },
          "metadata": {},
          "execution_count": 18
        }
      ]
    },
    {
      "cell_type": "code",
      "metadata": {
        "id": "ydR2axU7yWz8"
      },
      "source": [
        "missing_percentages =  missing_percentages[missing_percentages!=0]\n"
      ],
      "execution_count": 19,
      "outputs": []
    },
    {
      "cell_type": "markdown",
      "metadata": {
        "id": "SM42ArOgJ-c2"
      },
      "source": [
        "Graph 1"
      ]
    },
    {
      "cell_type": "code",
      "metadata": {
        "id": "4HlSdhbw8icD",
        "colab": {
          "base_uri": "https://localhost:8080/",
          "height": 380
        },
        "outputId": "8fe5842e-1255-40a2-9cdb-8edb06dadd16"
      },
      "source": [
        "missing_percentages.plot(kind = 'bar')"
      ],
      "execution_count": 20,
      "outputs": [
        {
          "output_type": "execute_result",
          "data": {
            "text/plain": [
              "<matplotlib.axes._subplots.AxesSubplot at 0x7fa012994250>"
            ]
          },
          "metadata": {},
          "execution_count": 20
        },
        {
          "output_type": "display_data",
          "data": {
            "image/png": "[encoded data removed]",
            "text/plain": [
              "<Figure size 432x288 with 1 Axes>"
            ]
          },
          "metadata": {
            "needs_background": "light"
          }
        }
      ]
    },
    {
      "cell_type": "markdown",
      "metadata": {
        "id": "A16O1TtZb7aA"
      },
      "source": [
        "# **ExploratoryAnalysis and Visualization**"
      ]
    },
    {
      "cell_type": "markdown",
      "metadata": {
        "id": "teSto2yp6B5r"
      },
      "source": [
        "###Analysing specific columns\n",
        "1.   city\n",
        "2.   weather conditions\n",
        "3.   temperature\n",
        "4.   precipitation\n",
        "\n",
        "\n",
        "\n",
        "\n",
        "\n"
      ]
    },
    {
      "cell_type": "code",
      "metadata": {
        "id": "ZLhsuI9v8ieb",
        "colab": {
          "base_uri": "https://localhost:8080/"
        },
        "outputId": "b787c0de-557f-45d9-d201-ff194fd6c9cc"
      },
      "source": [
        "df.City"
      ],
      "execution_count": 21,
      "outputs": [
        {
          "output_type": "execute_result",
          "data": {
            "text/plain": [
              "0               Dublin\n",
              "1               Dayton\n",
              "2           Cincinnati\n",
              "3           Cincinnati\n",
              "4                Akron\n",
              "              ...     \n",
              "1516059      Riverside\n",
              "1516060      San Diego\n",
              "1516061         Orange\n",
              "1516062    Culver City\n",
              "1516063       Highland\n",
              "Name: City, Length: 1516064, dtype: object"
            ]
          },
          "metadata": {},
          "execution_count": 21
        }
      ]
    },
    {
      "cell_type": "code",
      "metadata": {
        "id": "9UD_f9K18ign",
        "colab": {
          "base_uri": "https://localhost:8080/"
        },
        "outputId": "56972f5a-4580-42a6-e343-a023cc0b98c5"
      },
      "source": [
        "len(df.City)"
      ],
      "execution_count": 22,
      "outputs": [
        {
          "output_type": "execute_result",
          "data": {
            "text/plain": [
              "1516064"
            ]
          },
          "metadata": {},
          "execution_count": 22
        }
      ]
    },
    {
      "cell_type": "code",
      "metadata": {
        "id": "xTbFr92O8ikQ",
        "colab": {
          "base_uri": "https://localhost:8080/"
        },
        "outputId": "8d92345b-a3a0-45f1-8175-78b89be65e06"
      },
      "source": [
        "Cities = df.City.unique()\n",
        "len(Cities)"
      ],
      "execution_count": 23,
      "outputs": [
        {
          "output_type": "execute_result",
          "data": {
            "text/plain": [
              "10658"
            ]
          },
          "metadata": {},
          "execution_count": 23
        }
      ]
    },
    {
      "cell_type": "code",
      "metadata": {
        "id": "4tKU_bsx9ASF",
        "colab": {
          "base_uri": "https://localhost:8080/"
        },
        "outputId": "54dbc549-9b42-45f6-f012-7daa7d12b42e"
      },
      "source": [
        "cities_by_accident = df.City.value_counts()\n",
        "cities_by_accident"
      ],
      "execution_count": 24,
      "outputs": [
        {
          "output_type": "execute_result",
          "data": {
            "text/plain": [
              "Los Angeles    39984\n",
              "Miami          36233\n",
              "Charlotte      22203\n",
              "Houston        20843\n",
              "Dallas         19497\n",
              "               ...  \n",
              "Wasta              1\n",
              "Mifflin            1\n",
              "Tiverton           1\n",
              "Round Top          1\n",
              "Lodgepole          1\n",
              "Name: City, Length: 10657, dtype: int64"
            ]
          },
          "metadata": {},
          "execution_count": 24
        }
      ]
    },
    {
      "cell_type": "code",
      "metadata": {
        "id": "m5IirHkr_byj",
        "colab": {
          "base_uri": "https://localhost:8080/"
        },
        "outputId": "f1e35ad9-48d1-402e-b55f-5112c7cf5611"
      },
      "source": [
        "cities_by_accident[:20]"
      ],
      "execution_count": 25,
      "outputs": [
        {
          "output_type": "execute_result",
          "data": {
            "text/plain": [
              "Los Angeles     39984\n",
              "Miami           36233\n",
              "Charlotte       22203\n",
              "Houston         20843\n",
              "Dallas          19497\n",
              "Sacramento      18431\n",
              "Orlando         16169\n",
              "Portland        14805\n",
              "San Diego       14090\n",
              "Minneapolis     12653\n",
              "Atlanta         11854\n",
              "Chicago         11507\n",
              "Saint Paul      10084\n",
              "Phoenix          9934\n",
              "Raleigh          9516\n",
              "San Jose         9362\n",
              "Richmond         8472\n",
              "Nashville        8381\n",
              "Riverside        8201\n",
              "Jacksonville     7815\n",
              "Name: City, dtype: int64"
            ]
          },
          "metadata": {},
          "execution_count": 25
        }
      ]
    },
    {
      "cell_type": "markdown",
      "metadata": {
        "id": "HiwSw2KHKBA5"
      },
      "source": [
        "Graph 2"
      ]
    },
    {
      "cell_type": "code",
      "metadata": {
        "id": "c8acs9_BC8e7",
        "colab": {
          "base_uri": "https://localhost:8080/",
          "height": 332
        },
        "outputId": "7a7313ac-6d0d-42df-cfe5-ad01f6c9e957"
      },
      "source": [
        "cities_by_accident[:20].plot(kind = 'bar')"
      ],
      "execution_count": 26,
      "outputs": [
        {
          "output_type": "execute_result",
          "data": {
            "text/plain": [
              "<matplotlib.axes._subplots.AxesSubplot at 0x7fa0121bbf90>"
            ]
          },
          "metadata": {},
          "execution_count": 26
        },
        {
          "output_type": "display_data",
          "data": {
            "image/png": "[encoded data removed]",
            "text/plain": [
              "<Figure size 432x288 with 1 Axes>"
            ]
          },
          "metadata": {
            "needs_background": "light"
          }
        }
      ]
    },
    {
      "cell_type": "code",
      "metadata": {
        "id": "EXgnzOa2_iQ9",
        "colab": {
          "base_uri": "https://localhost:8080/"
        },
        "outputId": "6e835403-b935-4ae8-cfbe-4aa24610b22f"
      },
      "source": [
        "'New York' in df.City"
      ],
      "execution_count": 27,
      "outputs": [
        {
          "output_type": "execute_result",
          "data": {
            "text/plain": [
              "False"
            ]
          },
          "metadata": {},
          "execution_count": 27
        }
      ]
    },
    {
      "cell_type": "code",
      "metadata": {
        "id": "bA3dPEUvCNek",
        "colab": {
          "base_uri": "https://localhost:8080/"
        },
        "outputId": "138f1307-bcb3-4482-deee-84c824b34506"
      },
      "source": [
        "'NY' in df.State"
      ],
      "execution_count": 28,
      "outputs": [
        {
          "output_type": "execute_result",
          "data": {
            "text/plain": [
              "False"
            ]
          },
          "metadata": {},
          "execution_count": 28
        }
      ]
    },
    {
      "cell_type": "code",
      "metadata": {
        "id": "b9BCIND2DeyZ"
      },
      "source": [
        "import seaborn as sns\n",
        "\n",
        "sns.set_style(\"darkgrid\")"
      ],
      "execution_count": 29,
      "outputs": []
    },
    {
      "cell_type": "markdown",
      "metadata": {
        "id": "9ETyXIo8KCtp"
      },
      "source": [
        "Graph 3"
      ]
    },
    {
      "cell_type": "code",
      "metadata": {
        "id": "iqY0A6pWMd3C",
        "colab": {
          "base_uri": "https://localhost:8080/",
          "height": 300
        },
        "outputId": "f261c0de-b981-4381-95ce-100f9eea741b"
      },
      "source": [
        "sns.histplot(cities_by_accident,log_scale=True)"
      ],
      "execution_count": 30,
      "outputs": [
        {
          "output_type": "execute_result",
          "data": {
            "text/plain": [
              "<matplotlib.axes._subplots.AxesSubplot at 0x7fa0036fdbd0>"
            ]
          },
          "metadata": {},
          "execution_count": 30
        },
        {
          "output_type": "display_data",
          "data": {
            "image/png": "[encoded data removed]",
            "text/plain": [
              "<Figure size 432x288 with 1 Axes>"
            ]
          },
          "metadata": {}
        }
      ]
    },
    {
      "cell_type": "code",
      "metadata": {
        "id": "O2KE_akZgMkI",
        "colab": {
          "base_uri": "https://localhost:8080/"
        },
        "outputId": "d000e348-ad04-4628-8b3c-bea458dcc47a"
      },
      "source": [
        "cities_by_accident[cities_by_accident == 1] "
      ],
      "execution_count": 31,
      "outputs": [
        {
          "output_type": "execute_result",
          "data": {
            "text/plain": [
              "Coal City    1\n",
              "Pitcher      1\n",
              "Gregory      1\n",
              "Burdette     1\n",
              "Wilsall      1\n",
              "            ..\n",
              "Wasta        1\n",
              "Mifflin      1\n",
              "Tiverton     1\n",
              "Round Top    1\n",
              "Lodgepole    1\n",
              "Name: City, Length: 1167, dtype: int64"
            ]
          },
          "metadata": {},
          "execution_count": 31
        }
      ]
    },
    {
      "cell_type": "markdown",
      "metadata": {
        "id": "NBGPaS1VObye"
      },
      "source": [
        "Most cities have less than 2000 accidents"
      ]
    },
    {
      "cell_type": "code",
      "metadata": {
        "id": "i_19K_mMOfFo"
      },
      "source": [
        "high_accident_cities = cities_by_accident[cities_by_accident >= 1000]\n",
        "low_accident_cities = cities_by_accident[cities_by_accident < 1000]"
      ],
      "execution_count": 32,
      "outputs": []
    },
    {
      "cell_type": "markdown",
      "metadata": {
        "id": "cq7xB5kuKFGL"
      },
      "source": [
        "Graph 4"
      ]
    },
    {
      "cell_type": "code",
      "metadata": {
        "id": "cCLJtx1XPM_M",
        "colab": {
          "base_uri": "https://localhost:8080/",
          "height": 350
        },
        "outputId": "9c1f5783-2c26-4d49-aad0-87821062e0e8"
      },
      "source": [
        "sns.distplot(high_accident_cities)"
      ],
      "execution_count": 33,
      "outputs": [
        {
          "output_type": "stream",
          "name": "stderr",
          "text": [
            "/usr/local/lib/python3.7/dist-packages/seaborn/distributions.py:2619: FutureWarning: `distplot` is a deprecated function and will be removed in a future version. Please adapt your code to use either `displot` (a figure-level function with similar flexibility) or `histplot` (an axes-level function for histograms).\n",
            "  warnings.warn(msg, FutureWarning)\n"
          ]
        },
        {
          "output_type": "execute_result",
          "data": {
            "text/plain": [
              "<matplotlib.axes._subplots.AxesSubplot at 0x7fa003412710>"
            ]
          },
          "metadata": {},
          "execution_count": 33
        },
        {
          "output_type": "display_data",
          "data": {
            "image/png": "[encoded data removed]",
            "text/plain": [
              "<Figure size 432x288 with 1 Axes>"
            ]
          },
          "metadata": {}
        }
      ]
    },
    {
      "cell_type": "code",
      "metadata": {
        "id": "GCCV83r0bjx3",
        "colab": {
          "base_uri": "https://localhost:8080/"
        },
        "outputId": "17344b8c-f8c2-4c85-c190-16f809fa9c7a"
      },
      "source": [
        "len(high_accident_cities)/len(Cities)"
      ],
      "execution_count": 34,
      "outputs": [
        {
          "output_type": "execute_result",
          "data": {
            "text/plain": [
              "0.023550384687558643"
            ]
          },
          "metadata": {},
          "execution_count": 34
        }
      ]
    },
    {
      "cell_type": "markdown",
      "metadata": {
        "id": "saVs0xyUhCji"
      },
      "source": [
        "### Analysing Start Time *columns*"
      ]
    },
    {
      "cell_type": "code",
      "metadata": {
        "id": "j3ZLgZiFhGTv",
        "colab": {
          "base_uri": "https://localhost:8080/"
        },
        "outputId": "ec4f518b-2d22-4bed-b2ab-df49306b6c1f"
      },
      "source": [
        "df.Start_Time"
      ],
      "execution_count": 35,
      "outputs": [
        {
          "output_type": "execute_result",
          "data": {
            "text/plain": [
              "0          2016-02-08 00:37:08\n",
              "1          2016-02-08 05:56:20\n",
              "2          2016-02-08 06:15:39\n",
              "3          2016-02-08 06:15:39\n",
              "4          2016-02-08 06:51:45\n",
              "                  ...         \n",
              "1516059    2019-08-23 18:03:25\n",
              "1516060    2019-08-23 19:11:30\n",
              "1516061    2019-08-23 19:00:21\n",
              "1516062    2019-08-23 19:00:21\n",
              "1516063    2019-08-23 18:52:06\n",
              "Name: Start_Time, Length: 1516064, dtype: object"
            ]
          },
          "metadata": {},
          "execution_count": 35
        }
      ]
    },
    {
      "cell_type": "code",
      "metadata": {
        "id": "QLFx_MbyhicD"
      },
      "source": [
        "df.Start_Time = pd.to_datetime(df.Start_Time)"
      ],
      "execution_count": 36,
      "outputs": []
    },
    {
      "cell_type": "code",
      "metadata": {
        "id": "c7Ggu9__h6eL",
        "colab": {
          "base_uri": "https://localhost:8080/"
        },
        "outputId": "72885754-dd1c-4e67-9843-b695385f4ab6"
      },
      "source": [
        "df.Start_Time[0]"
      ],
      "execution_count": 37,
      "outputs": [
        {
          "output_type": "execute_result",
          "data": {
            "text/plain": [
              "Timestamp('2016-02-08 00:37:08')"
            ]
          },
          "metadata": {},
          "execution_count": 37
        }
      ]
    },
    {
      "cell_type": "markdown",
      "metadata": {
        "id": "8gNnm9YjJ6Ql"
      },
      "source": [
        "Graph 5"
      ]
    },
    {
      "cell_type": "code",
      "metadata": {
        "colab": {
          "base_uri": "https://localhost:8080/",
          "height": 350
        },
        "id": "rmpKEHmJH357",
        "outputId": "b68955c3-2319-4c80-cdc2-aa2cf9bd5d70"
      },
      "source": [
        "sns.distplot(df.Start_Time.dt.hour, bins=24,kde=False, norm_hist = True)"
      ],
      "execution_count": 38,
      "outputs": [
        {
          "output_type": "stream",
          "name": "stderr",
          "text": [
            "/usr/local/lib/python3.7/dist-packages/seaborn/distributions.py:2619: FutureWarning: `distplot` is a deprecated function and will be removed in a future version. Please adapt your code to use either `displot` (a figure-level function with similar flexibility) or `histplot` (an axes-level function for histograms).\n",
            "  warnings.warn(msg, FutureWarning)\n"
          ]
        },
        {
          "output_type": "execute_result",
          "data": {
            "text/plain": [
              "<matplotlib.axes._subplots.AxesSubplot at 0x7fa001359a90>"
            ]
          },
          "metadata": {},
          "execution_count": 38
        },
        {
          "output_type": "display_data",
          "data": {
            "image/png": "[encoded data removed]",
            "text/plain": [
              "<Figure size 432x288 with 1 Axes>"
            ]
          },
          "metadata": {}
        }
      ]
    },
    {
      "cell_type": "markdown",
      "metadata": {
        "id": "bpGn5fgrKkZQ"
      },
      "source": [
        "A higher percentage of accidents occur between 7am and 10am, probably people are in a hurry to get to work, and there's more traffic at that time\n",
        "\n",
        "Next highest percentage is 3pm to 6pm"
      ]
    },
    {
      "cell_type": "markdown",
      "metadata": {
        "id": "_1IxB6s3O_dZ"
      },
      "source": [
        "Graph 6"
      ]
    },
    {
      "cell_type": "code",
      "metadata": {
        "colab": {
          "base_uri": "https://localhost:8080/",
          "height": 350
        },
        "id": "Q0F7iJgILuPi",
        "outputId": "68cf8285-bcca-41a2-df1a-ed313245d389"
      },
      "source": [
        "sns.distplot(df.Start_Time.dt.dayofweek, bins=7,kde=False, norm_hist = True)"
      ],
      "execution_count": 39,
      "outputs": [
        {
          "output_type": "stream",
          "name": "stderr",
          "text": [
            "/usr/local/lib/python3.7/dist-packages/seaborn/distributions.py:2619: FutureWarning: `distplot` is a deprecated function and will be removed in a future version. Please adapt your code to use either `displot` (a figure-level function with similar flexibility) or `histplot` (an axes-level function for histograms).\n",
            "  warnings.warn(msg, FutureWarning)\n"
          ]
        },
        {
          "output_type": "execute_result",
          "data": {
            "text/plain": [
              "<matplotlib.axes._subplots.AxesSubplot at 0x7fa0012764d0>"
            ]
          },
          "metadata": {},
          "execution_count": 39
        },
        {
          "output_type": "display_data",
          "data": {
            "image/png": "[encoded data removed]",
            "text/plain": [
              "<Figure size 432x288 with 1 Axes>"
            ]
          },
          "metadata": {}
        }
      ]
    },
    {
      "cell_type": "markdown",
      "metadata": {
        "id": "u-4BOFwaMxvf"
      },
      "source": [
        "Is the distribution of accidents by hour the same on weekends as on weekdays?"
      ]
    },
    {
      "cell_type": "markdown",
      "metadata": {
        "id": "i8fUBxy3PBtW"
      },
      "source": [
        "Graph 7"
      ]
    },
    {
      "cell_type": "code",
      "metadata": {
        "colab": {
          "base_uri": "https://localhost:8080/",
          "height": 350
        },
        "id": "ieb_ArBJM4k4",
        "outputId": "f13685c8-6baf-48e4-ce89-fcc30aa68cfe"
      },
      "source": [
        "Sundays_Start_time = df.Start_Time[df.Start_Time.dt.dayofweek == 6]\n",
        "sns.distplot(Sundays_Start_time.dt.hour,bins = 24, kde=False, norm_hist=True)"
      ],
      "execution_count": 40,
      "outputs": [
        {
          "output_type": "stream",
          "name": "stderr",
          "text": [
            "/usr/local/lib/python3.7/dist-packages/seaborn/distributions.py:2619: FutureWarning: `distplot` is a deprecated function and will be removed in a future version. Please adapt your code to use either `displot` (a figure-level function with similar flexibility) or `histplot` (an axes-level function for histograms).\n",
            "  warnings.warn(msg, FutureWarning)\n"
          ]
        },
        {
          "output_type": "execute_result",
          "data": {
            "text/plain": [
              "<matplotlib.axes._subplots.AxesSubplot at 0x7fa00135ec90>"
            ]
          },
          "metadata": {},
          "execution_count": 40
        },
        {
          "output_type": "display_data",
          "data": {
            "image/png": "[encoded data removed]",
            "text/plain": [
              "<Figure size 432x288 with 1 Axes>"
            ]
          },
          "metadata": {}
        }
      ]
    },
    {
      "cell_type": "markdown",
      "metadata": {
        "id": "dy2-z7_5PDF_"
      },
      "source": [
        "Graph 8"
      ]
    },
    {
      "cell_type": "code",
      "metadata": {
        "colab": {
          "base_uri": "https://localhost:8080/",
          "height": 353
        },
        "id": "Dy35dMuAOaQj",
        "outputId": "b19f410c-f7ff-4313-8550-d5f4722691f5"
      },
      "source": [
        "Mondays_Start_time = df.Start_Time[df.Start_Time.dt.dayofweek == 0]\n",
        "sns.distplot(Mondays_Start_time.dt.hour,bins = 24, kde=False, norm_hist=True)"
      ],
      "execution_count": 41,
      "outputs": [
        {
          "output_type": "stream",
          "name": "stderr",
          "text": [
            "/usr/local/lib/python3.7/dist-packages/seaborn/distributions.py:2619: FutureWarning: `distplot` is a deprecated function and will be removed in a future version. Please adapt your code to use either `displot` (a figure-level function with similar flexibility) or `histplot` (an axes-level function for histograms).\n",
            "  warnings.warn(msg, FutureWarning)\n"
          ]
        },
        {
          "output_type": "execute_result",
          "data": {
            "text/plain": [
              "<matplotlib.axes._subplots.AxesSubplot at 0x7fa0011a8390>"
            ]
          },
          "metadata": {},
          "execution_count": 41
        },
        {
          "output_type": "display_data",
          "data": {
            "image/png": "[encoded data removed]",
            "text/plain": [
              "<Figure size 432x288 with 1 Axes>"
            ]
          },
          "metadata": {}
        }
      ]
    },
    {
      "cell_type": "code",
      "metadata": {
        "colab": {
          "base_uri": "https://localhost:8080/",
          "height": 350
        },
        "id": "AbaPEu68aS1m",
        "outputId": "e03b907e-2c8d-4877-a111-3c0c4d7b06ad"
      },
      "source": [
        "sns.distplot(Mondays_Start_time.dt.month,bins = 12, kde=False, norm_hist=True)"
      ],
      "execution_count": 42,
      "outputs": [
        {
          "output_type": "stream",
          "name": "stderr",
          "text": [
            "/usr/local/lib/python3.7/dist-packages/seaborn/distributions.py:2619: FutureWarning: `distplot` is a deprecated function and will be removed in a future version. Please adapt your code to use either `displot` (a figure-level function with similar flexibility) or `histplot` (an axes-level function for histograms).\n",
            "  warnings.warn(msg, FutureWarning)\n"
          ]
        },
        {
          "output_type": "execute_result",
          "data": {
            "text/plain": [
              "<matplotlib.axes._subplots.AxesSubplot at 0x7fa001139e10>"
            ]
          },
          "metadata": {},
          "execution_count": 42
        },
        {
          "output_type": "display_data",
          "data": {
            "image/png": "[encoded data removed]",
            "text/plain": [
              "<Figure size 432x288 with 1 Axes>"
            ]
          },
          "metadata": {}
        }
      ]
    },
    {
      "cell_type": "markdown",
      "metadata": {
        "id": "d8FQnXQLabH4"
      },
      "source": [
        "There are more accidents towards the end of the year. \n",
        "\n",
        "Can you explain the month-wise trend of accidents? Do they occur more in the winter?\n",
        "\n",
        "Musch data is missing for 2016, maybe even 2017\n"
      ]
    },
    {
      "cell_type": "markdown",
      "metadata": {
        "id": "T7Z_GO2LtSly"
      },
      "source": [
        "###Start Latitude and longitude"
      ]
    },
    {
      "cell_type": "code",
      "metadata": {
        "colab": {
          "base_uri": "https://localhost:8080/"
        },
        "id": "QIw2oGsOtRHi",
        "outputId": "c0603e9a-4508-43d3-edd4-7f3b736df859"
      },
      "source": [
        "df.Start_Lat"
      ],
      "execution_count": 43,
      "outputs": [
        {
          "output_type": "execute_result",
          "data": {
            "text/plain": [
              "0          40.10891\n",
              "1          39.86542\n",
              "2          39.10266\n",
              "3          39.10148\n",
              "4          41.06213\n",
              "             ...   \n",
              "1516059    34.00248\n",
              "1516060    32.76696\n",
              "1516061    33.77545\n",
              "1516062    33.99246\n",
              "1516063    34.13393\n",
              "Name: Start_Lat, Length: 1516064, dtype: float64"
            ]
          },
          "metadata": {},
          "execution_count": 43
        }
      ]
    },
    {
      "cell_type": "code",
      "metadata": {
        "colab": {
          "base_uri": "https://localhost:8080/"
        },
        "id": "JBwKVs41St6u",
        "outputId": "afec8095-539e-418a-93a1-d707ebc82073"
      },
      "source": [
        "df.Start_Lng"
      ],
      "execution_count": 44,
      "outputs": [
        {
          "output_type": "execute_result",
          "data": {
            "text/plain": [
              "0          -83.09286\n",
              "1          -84.06280\n",
              "2          -84.52468\n",
              "3          -84.52341\n",
              "4          -81.53784\n",
              "             ...    \n",
              "1516059   -117.37936\n",
              "1516060   -117.14806\n",
              "1516061   -117.84779\n",
              "1516062   -118.40302\n",
              "1516063   -117.23092\n",
              "Name: Start_Lng, Length: 1516064, dtype: float64"
            ]
          },
          "metadata": {},
          "execution_count": 44
        }
      ]
    },
    {
      "cell_type": "code",
      "metadata": {
        "colab": {
          "base_uri": "https://localhost:8080/",
          "height": 299
        },
        "id": "d9-XthkxSw-Y",
        "outputId": "dadae65d-e8cd-4126-a257-d330b1e2b1be"
      },
      "source": [
        "sns.scatterplot(x=df.Start_Lng, y=df.Start_Lat, size=0.001)"
      ],
      "execution_count": 45,
      "outputs": [
        {
          "output_type": "execute_result",
          "data": {
            "text/plain": [
              "<matplotlib.axes._subplots.AxesSubplot at 0x7fa000feb110>"
            ]
          },
          "metadata": {},
          "execution_count": 45
        },
        {
          "output_type": "display_data",
          "data": {
            "image/png": "[encoded data removed]",
            "text/plain": [
              "<Figure size 432x288 with 1 Axes>"
            ]
          },
          "metadata": {}
        }
      ]
    },
    {
      "cell_type": "code",
      "metadata": {
        "id": "bGq3pcY5UJE6"
      },
      "source": [
        "import folium"
      ],
      "execution_count": 46,
      "outputs": []
    },
    {
      "cell_type": "code",
      "metadata": {
        "colab": {
          "base_uri": "https://localhost:8080/"
        },
        "id": "GvJh0_r7UTYh",
        "outputId": "ae32dc7f-136b-43c3-a715-732ad77fe1cb"
      },
      "source": [
        "lat, lon = df.Start_Lat[0], df.Start_Lng[0]\n",
        "lat,lon"
      ],
      "execution_count": 47,
      "outputs": [
        {
          "output_type": "execute_result",
          "data": {
            "text/plain": [
              "(40.108909999999995, -83.09286)"
            ]
          },
          "metadata": {},
          "execution_count": 47
        }
      ]
    },
    {
      "cell_type": "markdown",
      "metadata": {
        "id": "WWKVaYzorDlY"
      },
      "source": [
        "We get all the latitudes as a list and all the longitudes as a list and pair them up to form a list of pairs. And then put that pairs into the heatmap\n"
      ]
    },
    {
      "cell_type": "code",
      "metadata": {
        "colab": {
          "base_uri": "https://localhost:8080/"
        },
        "id": "m5VcDFSkXkgR",
        "outputId": "a395d747-6aae-433a-830b-8c2ded7bf523"
      },
      "source": [
        "list(zip(list(df.Start_Lat), list(df.Start_Lng)))"
      ],
      "execution_count": 53,
      "outputs": [
        {
          "output_type": "execute_result",
          "data": {
            "text/plain": [
              "[(40.108909999999995, -83.09286),\n",
              " (39.86542, -84.0628),\n",
              " (39.10266, -84.52468),\n",
              " (39.10148, -84.52341),\n",
              " (41.062129999999996, -81.53784),\n",
              " (39.172393, -84.49279200000001),\n",
              " (39.06324, -84.03243),\n",
              " (39.06708, -84.05855),\n",
              " (39.77565, -84.18603),\n",
              " (41.37531, -81.82016999999999),\n",
              " (40.702247, -84.075887),\n",
              " (40.10931, -82.96849),\n",
              " (39.19288, -84.47723),\n",
              " (39.13877, -84.53394),\n",
              " (41.4739, -81.704233),\n",
              " (39.582242, -83.677814),\n",
              " (40.151785, -81.312635),\n",
              " (40.151747, -81.312682),\n",
              " (39.972409999999996, -82.84695),\n",
              " (39.9838, -82.85656999999999),\n",
              " (40.02664, -82.9944),\n",
              " (41.679361, -83.573037),\n",
              " (40.99613, -85.26613),\n",
              " (39.0381, -84.59243000000001),\n",
              " (40.03386, -82.99601),\n",
              " (39.85798, -84.28181),\n",
              " (39.15267, -84.5395),\n",
              " (39.307320000000004, -85.95982),\n",
              " (39.77572, -84.04815),\n",
              " (39.97643, -83.12306),\n",
              " (39.58595, -85.82518),\n",
              " (39.3638, -85.51659000000001),\n",
              " (39.45132, -85.62516),\n",
              " (39.75067, -84.14148),\n",
              " (39.2675, -81.49929),\n",
              " (39.86025, -85.96623000000001),\n",
              " (41.95677, -83.67214),\n",
              " (38.27401, -85.74844),\n",
              " (41.95677, -83.67214),\n",
              " (40.52225, -80.06666),\n",
              " (40.487814, -80.009439),\n",
              " (40.156298, -83.018431),\n",
              " (41.47461, -81.71181999999999),\n",
              " (41.0618, -81.54608),\n",
              " (40.45112, -85.15048),\n",
              " (40.35429, -85.14993),\n",
              " (39.75855, -85.13715),\n",
              " (39.74408, -85.13749),\n",
              " (39.965148, -83.020499),\n",
              " (40.72813, -84.78965),\n",
              " (39.85223, -85.25846999999999),\n",
              " (41.46747, -81.75909),\n",
              " (41.83193, -80.10143000000001),\n",
              " (39.744287, -84.204939),\n",
              " (39.71548, -84.22033),\n",
              " (39.7504, -84.20561),\n",
              " (41.72316, -84.96444),\n",
              " (40.04376, -82.99708000000001),\n",
              " (38.1781, -85.71946),\n",
              " (38.18577, -85.80678),\n",
              " (38.27191, -85.80838),\n",
              " (39.923905, -82.87008),\n",
              " (41.035565999999996, -81.569917),\n",
              " (39.9239, -83.68767),\n",
              " (41.851914, -80.175232),\n",
              " (39.93849, -82.84849),\n",
              " (38.969429999999996, -80.1096),\n",
              " (39.00248, -80.22624),\n",
              " (41.66805, -83.57063000000001),\n",
              " (41.48339, -81.66297),\n",
              " (41.50127, -81.4804),\n",
              " (39.789093, -82.989106),\n",
              " (41.67073, -81.24561),\n",
              " (41.708459999999995, -81.17636),\n",
              " (41.44246, -81.78485),\n",
              " (39.77128, -84.1923),\n",
              " (41.50499, -81.47417),\n",
              " (40.109653, -80.2029),\n",
              " (38.38852, -81.7687),\n",
              " (41.03572, -81.57809),\n",
              " (41.47487, -81.72095),\n",
              " (41.62845, -84.80559000000001),\n",
              " (41.62894, -84.80373),\n",
              " (41.16102, -81.78573),\n",
              " (41.628232000000004, -84.808858),\n",
              " (41.62986, -84.76619000000001),\n",
              " (39.74729, -84.21426),\n",
              " (41.42099, -81.69051999999999),\n",
              " (41.42318, -81.84674),\n",
              " (38.79691, -84.48273),\n",
              " (38.80878, -84.49638),\n",
              " (38.30155, -85.85499),\n",
              " (38.33667, -81.65623000000001),\n",
              " (38.33614, -81.65623000000001),\n",
              " (41.0961, -81.58593),\n",
              " (41.12155, -85.18715999999999),\n",
              " (38.829993, -80.667067),\n",
              " (40.05642, -83.03097),\n",
              " (41.37717, -81.5139),\n",
              " (39.173970000000004, -84.49031),\n",
              " (39.75513, -84.16614),\n",
              " (39.173970000000004, -84.49031),\n",
              " (41.12624, -81.65299),\n",
              " (38.33667, -81.65623000000001),\n",
              " (41.10389, -81.5),\n",
              " (39.16417, -84.45275),\n",
              " (40.11184, -83.00883),\n",
              " (38.31922, -85.75301999999999),\n",
              " (39.09881, -84.50801),\n",
              " (41.473859000000004, -81.708409),\n",
              " (41.039988, -81.565332),\n",
              " (41.73565, -84.99082),\n",
              " (39.26566, -84.43965),\n",
              " (41.469809999999995, -81.81104),\n",
              " (41.25666, -81.63157),\n",
              " (40.58919, -80.09885),\n",
              " (41.063559999999995, -81.49078),\n",
              " (41.06218, -81.50595),\n",
              " (39.17736, -84.4873),\n",
              " (38.33956, -81.60991999999999),\n",
              " (41.47889, -81.6934),\n",
              " (40.58919, -80.09885),\n",
              " (41.411190000000005, -81.64414000000001),\n",
              " (39.24907, -84.44561999999999),\n",
              " (39.28775, -84.40073000000001),\n",
              " (41.47379, -81.89631),\n",
              " (41.549409999999995, -81.60676),\n",
              " (39.03347, -84.603),\n",
              " (39.74903, -84.20106),\n",
              " (39.894729999999996, -83.044),\n",
              " (39.19641, -84.47331),\n",
              " (39.22461, -84.45364000000001),\n",
              " (39.153059999999996, -84.44283),\n",
              " (39.97262, -82.98368),\n",
              " (40.535447, -80.03596),\n",
              " (40.529455, -80.03506999999999),\n",
              " (41.49647, -81.67733),\n",
              " (41.0634, -81.49079),\n",
              " (39.74284, -84.20479),\n",
              " (41.46822, -81.9476),\n",
              " (41.92479, -83.36026),\n",
              " (41.184738, -80.432713),\n",
              " (40.27317, -85.5577),\n",
              " (39.98264, -85.14301999999999),\n",
              " (40.27317, -85.5577),\n",
              " (40.42667, -85.54968000000001),\n",
              " (39.97527, -85.14018),\n",
              " (39.098890000000004, -84.52118),\n",
              " (38.88012, -84.62527),\n",
              " (38.792559999999995, -84.60423),\n",
              " (39.74284, -84.20479),\n",
              " (40.484221999999995, -80.13755400000001),\n",
              " (41.20104, -80.06859),\n",
              " (39.055279999999996, -84.39072),\n",
              " (41.623325, -83.692226),\n",
              " (40.53024, -80.00957),\n",
              " (40.53024, -80.00957),\n",
              " (40.06527, -82.99591),\n",
              " (40.43954, -80.00971),\n",
              " (41.422004, -81.730092),\n",
              " (39.3638, -85.51659000000001),\n",
              " (39.82083, -85.7749),\n",
              " (40.0366, -85.72561999999999),\n",
              " (39.855691, -84.29079200000001),\n",
              " (40.049152, -85.682047),\n",
              " (39.83939, -85.55752),\n",
              " (40.13386, -80.00666),\n",
              " (40.43954, -80.00971),\n",
              " (40.13386, -80.00666),\n",
              " (40.13386, -80.00666),\n",
              " (39.978590000000004, -82.9763),\n",
              " (39.95459, -83.04255),\n",
              " (39.68291, -85.97372),\n",
              " (38.49304, -85.77156),\n",
              " (38.33428, -85.82177),\n",
              " (39.99921, -83.02875),\n",
              " (38.53844, -85.77702),\n",
              " (38.1781, -85.71946),\n",
              " (39.87433, -82.99882),\n",
              " (41.39546, -85.32855),\n",
              " (41.394690000000004, -85.28893000000001),\n",
              " (41.90473, -83.36986),\n",
              " (40.771370000000005, -84.62203000000001),\n",
              " (40.80059, -84.61374),\n",
              " (39.87433, -82.99882),\n",
              " (40.78593, -84.61787),\n",
              " (40.80059, -84.61374),\n",
              " (41.67487, -83.57266),\n",
              " (41.47376, -81.86113),\n",
              " (38.33465, -85.75389),\n",
              " (39.14014, -84.53495),\n",
              " (41.801429999999996, -85.34888000000001),\n",
              " (41.81755, -85.32291),\n",
              " (41.35761, -81.81988),\n",
              " (39.343920000000004, -84.39043000000001),\n",
              " (39.816154, -83.18010500000001),\n",
              " (38.824929, -85.47449499999999),\n",
              " (38.82415, -85.63794),\n",
              " (40.593244, -85.150017),\n",
              " (40.600487, -85.150502),\n",
              " (41.19362, -80.2374),\n",
              " (40.55267, -85.14974000000001),\n",
              " (40.567440000000005, -85.14993),\n",
              " (40.14212, -81.55153),\n",
              " (39.94397, -82.41127),\n",
              " (39.96893, -83.11922),\n",
              " (40.6126, -80.09494000000001),\n",
              " (40.11184, -83.00883),\n",
              " (41.06347, -81.50372),\n",
              " (39.972931, -85.965783),\n",
              " (39.95459, -83.04255),\n",
              " (40.11184, -83.00883),\n",
              " (39.972409999999996, -82.84695),\n",
              " (39.9912, -85.9188),\n",
              " (41.34965, -81.51146),\n",
              " (41.11987, -80.69004),\n",
              " (41.11851, -80.69242),\n",
              " (40.05642, -83.03097),\n",
              " (41.123412, -80.68202600000001),\n",
              " (38.117487, -85.760397),\n",
              " (41.441340000000004, -81.65055),\n",
              " (38.61531, -80.76034),\n",
              " (41.124052, -80.677589),\n",
              " (39.95085, -82.94428),\n",
              " (41.06257, -81.52228000000001),\n",
              " (40.112120000000004, -83.03905999999999),\n",
              " (39.887033, -83.043909),\n",
              " (40.04916, -83.03336),\n",
              " (41.129059999999996, -85.1612),\n",
              " (41.17798, -85.10323000000001),\n",
              " (38.08783, -83.90263),\n",
              " (41.63316, -83.54203000000001),\n",
              " (39.149639, -84.539381),\n",
              " (40.9605, -85.3528),\n",
              " (40.96051, -85.34522),\n",
              " (41.08204, -80.64846999999999),\n",
              " (41.617909999999995, -83.54106999999999),\n",
              " (38.41592, -82.3465),\n",
              " (41.675709999999995, -83.69385),\n",
              " (39.08272, -84.52264),\n",
              " (39.280947, -80.278075),\n",
              " (38.36387, -81.73867),\n",
              " (40.0187, -82.90465999999999),\n",
              " (41.53757, -81.64083000000001),\n",
              " (41.16522, -81.47454),\n",
              " (39.52352, -82.02360999999999),\n",
              " (39.517216, -82.025802),\n",
              " (40.322818, -83.071034),\n",
              " (41.73565, -84.99082),\n",
              " (39.14648, -84.45455),\n",
              " (39.821220000000004, -85.76482),\n",
              " (41.11889, -81.65406999999999),\n",
              " (40.121557, -83.151457),\n",
              " (40.110170000000004, -83.15876999999999),\n",
              " (41.57777, -81.54987),\n",
              " (40.121557, -83.151457),\n",
              " (40.110170000000004, -83.15876999999999),\n",
              " (41.04592, -81.69463),\n",
              " (41.42099, -81.69051999999999),\n",
              " (39.27486, -84.346),\n",
              " (39.28266, -84.56742),\n",
              " (39.9467, -82.22232),\n",
              " (39.173970000000004, -84.49031),\n",
              " (39.17736, -84.4873),\n",
              " (39.9467, -82.22232),\n",
              " (39.9467, -82.22232),\n",
              " (41.685179999999995, -83.5678),\n",
              " (41.66572, -83.5652),\n",
              " (39.27125, -84.35176),\n",
              " (41.47395, -81.69931),\n",
              " (39.98505, -80.74006),\n",
              " (39.95813, -80.76219),\n",
              " (41.56544, -81.5835),\n",
              " (38.32587, -83.11389),\n",
              " (38.25869, -85.7622),\n",
              " (38.29322, -85.654625),\n",
              " (39.78609, -83.24606999999999),\n",
              " (41.53968, -81.62795),\n",
              " (39.08927, -84.5227),\n",
              " (38.25922, -85.76632),\n",
              " (41.552640000000004, -81.60032),\n",
              " (39.02187, -84.50492),\n",
              " (41.06755, -81.57421),\n",
              " (40.49223, -80.01029),\n",
              " (41.48836, -81.66471),\n",
              " (39.95085, -82.94428),\n",
              " (41.420629999999996, -81.80859),\n",
              " (41.06755, -81.57421),\n",
              " (40.82949, -81.39732),\n",
              " (41.400909999999996, -81.81724),\n",
              " (41.13355, -85.13584),\n",
              " (41.14226, -85.13611),\n",
              " (38.870385999999996, -84.624429),\n",
              " (41.47974, -81.6667),\n",
              " (40.30095, -80.16651999999999),\n",
              " (39.115429999999996, -84.50003000000001),\n",
              " (41.1419, -81.47694),\n",
              " (39.14917, -84.44711),\n",
              " (39.819790000000005, -84.18908),\n",
              " (39.84509, -84.1899),\n",
              " (41.47461, -81.71181999999999),\n",
              " (39.17304, -84.47589),\n",
              " (39.1021, -84.49754),\n",
              " (41.49873, -81.67260999999999),\n",
              " (39.12627, -84.53509),\n",
              " (41.473946000000005, -81.699011),\n",
              " (39.9745, -83.09654),\n",
              " (39.85911, -84.2808),\n",
              " (39.24943, -84.36541),\n",
              " (38.31179, -85.58773000000001),\n",
              " (39.27486, -84.346),\n",
              " (39.29287, -84.31981),\n",
              " (39.15267, -84.5395),\n",
              " (41.4675, -81.49014),\n",
              " (39.26661, -84.35605),\n",
              " (39.27125, -84.35176),\n",
              " (38.20674, -85.74846),\n",
              " (40.138040000000004, -82.97112),\n",
              " (41.47965, -81.66758),\n",
              " (39.08887, -84.52271),\n",
              " (41.6882, -83.64064),\n",
              " (40.06527, -82.99591),\n",
              " (39.865359999999995, -84.05238),\n",
              " (38.420223, -82.293065),\n",
              " (41.474140000000006, -81.69893),\n",
              " (41.47542, -81.68721),\n",
              " (40.07297, -83.1347),\n",
              " (40.056090000000005, -80.679211),\n",
              " (38.19105, -85.71902),\n",
              " (38.254540000000006, -85.71969),\n",
              " (39.171694, -84.494399),\n",
              " (41.06239, -81.52229),\n",
              " (39.259254, -84.440978),\n",
              " (39.905178, -82.895471),\n",
              " (40.0988, -83.13331),\n",
              " (41.339909999999996, -81.81739),\n",
              " (40.0999, -82.92089),\n",
              " (39.4728, -80.11963),\n",
              " (41.46631, -81.77065999999999),\n",
              " (38.34109, -81.70017),\n",
              " (41.160072, -85.232647),\n",
              " (41.163626, -85.24482900000001),\n",
              " (39.14014, -84.53495),\n",
              " (40.945370000000004, -81.15473),\n",
              " (41.68591, -83.911307),\n",
              " (41.704522999999995, -83.9136),\n",
              " (40.945772, -81.17219399999999),\n",
              " (38.82445, -82.98299),\n",
              " (38.84111, -82.98432),\n",
              " (39.00079, -84.42043000000001),\n",
              " (39.96071, -85.35383),\n",
              " (39.2675, -81.49929),\n",
              " (40.27317, -85.5577),\n",
              " (40.42667, -85.54968000000001),\n",
              " (38.130782, -81.388878),\n",
              " (38.545195, -85.778613),\n",
              " (38.362427000000004, -81.714434),\n",
              " (38.39115, -81.58664),\n",
              " (40.08978, -82.98725999999999),\n",
              " (40.0122, -82.99188000000001),\n",
              " (41.68918, -83.53681999999999),\n",
              " (39.3781, -84.365),\n",
              " (39.11919, -84.53539),\n",
              " (39.050290000000004, -83.77673),\n",
              " (39.04827, -83.77199),\n",
              " (40.0717, -82.90821),\n",
              " (39.09655, -84.48312),\n",
              " (40.43077, -80.02638),\n",
              " (41.443708, -85.19285),\n",
              " (41.438119, -85.15969399999999),\n",
              " (41.46747, -81.75909),\n",
              " (39.044435, -84.465864),\n",
              " (39.22461, -84.45364000000001),\n",
              " (41.104217, -81.499987),\n",
              " (41.1003, -81.4999),\n",
              " (39.1021, -84.49754),\n",
              " (41.46375, -81.69353000000001),\n",
              " (41.52134, -83.45642),\n",
              " (41.525490000000005, -83.46344),\n",
              " (41.43166, -81.68160999999999),\n",
              " (38.22363, -85.50532),\n",
              " (40.854659999999996, -81.41646999999999),\n",
              " (38.22272, -85.50111),\n",
              " (39.12424, -84.53501),\n",
              " (39.09858, -84.51974),\n",
              " (39.63551, -84.19519),\n",
              " (40.39715, -80.10368000000001),\n",
              " (41.56709, -81.57816),\n",
              " (41.18225, -84.94275999999999),\n",
              " (41.18225, -84.94275999999999),\n",
              " (39.10148, -84.52341),\n",
              " (39.10266, -84.52468),\n",
              " (41.55245, -83.60061999999999),\n",
              " (38.52006, -81.35221),\n",
              " (41.3513, -83.62276),\n",
              " (39.25015, -81.30566),\n",
              " (41.345031, -82.285379),\n",
              " (41.351335, -82.26144599999999),\n",
              " (38.384570000000004, -81.804429),\n",
              " (40.415279999999996, -80.01234000000001),\n",
              " (40.03598, -83.12479),\n",
              " (41.03669, -81.50492),\n",
              " (41.68971, -83.53045999999999),\n",
              " (39.587784, -83.723939),\n",
              " (39.626236999999996, -83.73105),\n",
              " (41.06243, -81.49904000000001),\n",
              " (41.06218, -81.50595),\n",
              " (39.97262, -82.98368),\n",
              " (39.93658, -83.00941999999999),\n",
              " (41.208579, -82.807829),\n",
              " (41.4051, -81.8184),\n",
              " (39.29035, -84.39078),\n",
              " (39.90524, -82.89541),\n",
              " (40.04376, -82.99708000000001),\n",
              " (39.98793, -82.98568),\n",
              " (41.874915, -85.409527),\n",
              " (41.890234, -85.409642),\n",
              " (39.9335, -82.78939),\n",
              " (40.04916, -83.03336),\n",
              " (39.99493, -82.93332),\n",
              " (39.837270000000004, -83.09326999999999),\n",
              " (40.989540000000005, -81.49372),\n",
              " (38.53844, -85.77702),\n",
              " (41.10389, -81.5),\n",
              " (38.577894, -85.77896),\n",
              " (41.42099, -81.69051999999999),\n",
              " (38.580546000000005, -85.77866),\n",
              " (39.833935, -84.061832),\n",
              " (38.30344, -85.88893),\n",
              " (39.93654, -83.40048),\n",
              " (39.95612, -83.37499),\n",
              " (39.177659999999996, -84.39780999999999),\n",
              " (40.02155, -83.0354),\n",
              " (39.97518, -85.63374),\n",
              " (39.94576, -85.63454),\n",
              " (40.277440000000006, -85.72518000000001),\n",
              " (40.2777, -85.67459000000001),\n",
              " (39.17304, -84.47589),\n",
              " (41.686479999999996, -83.5669),\n",
              " (41.66267, -85.03312),\n",
              " (41.68976, -83.666),\n",
              " (39.94594, -82.9432),\n",
              " (41.4758, -81.66036),\n",
              " (41.628312, -84.812135),\n",
              " (39.967240000000004, -83.02459),\n",
              " (41.964290000000005, -83.35018000000001),\n",
              " (41.282993, -83.638931),\n",
              " (41.63126, -83.48336),\n",
              " (41.427584, -85.8495),\n",
              " (41.471378, -85.839527),\n",
              " (41.46747, -81.75909),\n",
              " (39.183640000000004, -84.48373000000001),\n",
              " (41.94495, -80.40234),\n",
              " (39.53078, -84.310264),\n",
              " (41.438774, -81.80341999999999),\n",
              " (39.9838, -82.85656999999999),\n",
              " (40.444134000000005, -80.028261),\n",
              " (39.977270000000004, -83.15445),\n",
              " (39.9745, -83.09654),\n",
              " (39.97865, -83.11698),\n",
              " (39.97327, -83.12002),\n",
              " (39.22571, -84.36832),\n",
              " (39.986342, -83.118881),\n",
              " (39.736290000000004, -84.20489),\n",
              " (41.4051, -81.8184),\n",
              " (41.41101, -81.66634),\n",
              " (39.244640000000004, -84.44835),\n",
              " (40.112120000000004, -83.03905999999999),\n",
              " (40.30095, -80.16651999999999),\n",
              " (40.29739, -80.16798),\n",
              " (41.49243, -81.67554),\n",
              " (40.1827, -80.26148),\n",
              " (39.95459, -83.04255),\n",
              " (39.97527, -85.14018),\n",
              " (39.98511, -85.14406),\n",
              " (38.29514, -85.75655),\n",
              " (39.93654, -83.40048),\n",
              " (39.94143, -83.39224),\n",
              " (39.115429999999996, -84.50003000000001),\n",
              " (41.030684, -81.885739),\n",
              " (41.43166, -81.68160999999999),\n",
              " (40.6664, -80.227514),\n",
              " (40.67137, -80.22581),\n",
              " (41.305199, -81.438626),\n",
              " (40.354252, -85.843032),\n",
              " (40.402251, -85.842969),\n",
              " (41.267520000000005, -85.85673),\n",
              " (39.97307, -82.98405),\n",
              " (39.9672, -81.28699999999999),\n",
              " (39.96392, -81.27197),\n",
              " (41.526309999999995, -83.62123000000001),\n",
              " (39.93292, -82.83025),\n",
              " (39.08272, -84.52264),\n",
              " (39.8552, -84.32502),\n",
              " (41.65404, -85.70526),\n",
              " (41.654579999999996, -85.58601),\n",
              " (41.39465, -81.65326),\n",
              " (41.06211, -81.53053),\n",
              " (41.09598, -81.49976),\n",
              " (41.85222, -85.67843),\n",
              " (38.148808, -80.929665),\n",
              " (41.52447, -85.57791),\n",
              " (41.5105, -85.57781),\n",
              " (39.90524, -82.89541),\n",
              " (41.23598, -81.49325999999999),\n",
              " (38.70101, -80.66483000000001),\n",
              " (39.22498, -84.38094),\n",
              " (40.776022999999995, -80.12718100000001),\n",
              " (38.86027, -80.65729),\n",
              " (39.88203, -83.04748000000001),\n",
              " (39.892534000000005, -83.038786),\n",
              " (39.89698, -83.03428000000001),\n",
              " (41.67439, -83.693727),\n",
              " (41.12999, -85.15503000000001),\n",
              " (39.098890000000004, -84.52118),\n",
              " (41.526309999999995, -83.62123000000001),\n",
              " (39.088552, -84.522724),\n",
              " (39.954229999999995, -82.98879000000001),\n",
              " (39.21018, -84.46345),\n",
              " (39.95369, -82.96403000000001),\n",
              " (40.40934, -80.19247),\n",
              " (40.44126, -80.19314),\n",
              " (39.161609999999996, -84.51375),\n",
              " (39.161609999999996, -84.51375),\n",
              " (39.15141, -84.54061),\n",
              " (39.75855, -85.13715),\n",
              " (41.675709999999995, -83.69385),\n",
              " (41.675709999999995, -83.69385),\n",
              " (39.28805, -84.37462),\n",
              " (41.53618, -83.6176),\n",
              " (39.07202, -84.51907),\n",
              " (38.259133, -85.752672),\n",
              " (40.44425, -80.02821),\n",
              " (40.44278, -80.02468),\n",
              " (38.30155, -85.85499),\n",
              " (40.35405, -80.13756),\n",
              " (40.354490000000006, -80.13835999999999),\n",
              " (38.30344, -85.88893),\n",
              " (41.08789, -83.66011),\n",
              " (41.02454, -80.92163000000001),\n",
              " (41.02413, -80.90579),\n",
              " (39.08168, -84.7069),\n",
              " (38.185390000000005, -85.81793),\n",
              " (39.27734, -84.86438000000001),\n",
              " (39.16437, -84.43731),\n",
              " (39.748585, -84.226084),\n",
              " (39.4728, -80.11963),\n",
              " (41.187807, -80.149019),\n",
              " (41.19242, -80.15860500000001),\n",
              " (38.233483, -85.62671800000001),\n",
              " (38.33954, -81.609895),\n",
              " (40.07297, -83.1347),\n",
              " (40.08402, -83.13046),\n",
              " (38.346309999999995, -83.40449),\n",
              " (38.35382, -83.40553),\n",
              " (39.04416, -84.46656),\n",
              " (38.41807, -81.54525),\n",
              " (38.309401, -85.847643),\n",
              " (41.64679, -83.54913),\n",
              " (38.198747999999995, -85.733953),\n",
              " (39.97401, -82.99355),\n",
              " (39.173970000000004, -84.49031),\n",
              " (41.68843, -83.56258000000001),\n",
              " (41.67904, -83.5732),\n",
              " (39.25249, -84.36493),\n",
              " (38.310736, -85.590395),\n",
              " (41.469409999999996, -81.80535),\n",
              " (38.20674, -85.74846),\n",
              " (39.226317, -84.37107900000001),\n",
              " (41.68721, -83.55579),\n",
              " (40.09775, -84.22926),\n",
              " (41.42147, -81.70682),\n",
              " (38.294146000000005, -85.756847),\n",
              " (39.17304, -84.47589),\n",
              " (38.15982, -84.67308),\n",
              " (39.11675, -84.53355),\n",
              " (39.24943, -84.36541),\n",
              " (41.06146, -81.5049),\n",
              " (39.183640000000004, -84.48373000000001),\n",
              " (41.06228, -81.50986999999999),\n",
              " (39.98793, -82.98568),\n",
              " (39.95971, -83.04811),\n",
              " (39.1479, -84.53929000000001),\n",
              " (39.89555, -83.84997),\n",
              " (39.992259999999995, -82.98517),\n",
              " (39.40983, -82.97548),\n",
              " (40.6126, -80.09494000000001),\n",
              " (39.224790000000006, -84.27783000000001),\n",
              " (39.11675, -84.53355),\n",
              " (41.43869, -81.80554000000001),\n",
              " (40.016819, -82.90411),\n",
              " (39.097570000000005, -84.51666),\n",
              " (41.062470000000005, -81.52405),\n",
              " (39.13219, -84.49464),\n",
              " (39.097654, -84.516019),\n",
              " (41.34965, -81.51146),\n",
              " (41.37717, -81.5139),\n",
              " (40.125890000000005, -80.13661),\n",
              " (40.131890000000006, -80.132407),\n",
              " (40.00507, -83.1186),\n",
              " (39.437940000000005, -82.53893000000001),\n",
              " (39.12627, -84.53509),\n",
              " (38.07759, -84.45711999999999),\n",
              " (40.090790000000005, -82.90783),\n",
              " (39.64731, -85.91696999999999),\n",
              " (39.08927, -84.5227),\n",
              " (38.26109, -85.73695),\n",
              " (38.19785, -85.70445),\n",
              " (39.056540000000005, -84.54283000000001),\n",
              " (41.42413, -81.64519),\n",
              " (39.28638, -84.42706),\n",
              " (41.374990000000004, -83.61635),\n",
              " (41.06228, -81.50986999999999),\n",
              " (41.06146, -81.5049),\n",
              " (41.53907, -81.63354),\n",
              " (40.04916, -83.03336),\n",
              " (41.13613, -81.72196),\n",
              " (39.09891, -84.49181999999999),\n",
              " (39.96268, -82.84305),\n",
              " (39.173970000000004, -84.49031),\n",
              " (39.169109999999996, -84.42104),\n",
              " (39.003821, -80.391285),\n",
              " (39.17736, -84.4873),\n",
              " (39.143159999999995, -84.47069),\n",
              " (39.2696, -84.34894),\n",
              " (40.521732, -81.64755),\n",
              " (40.513360999999996, -81.651599),\n",
              " (41.526309999999995, -83.62123000000001),\n",
              " (38.992607, -80.195782),\n",
              " (38.839151, -82.152877),\n",
              " (40.27675, -85.49916),\n",
              " (40.521679999999996, -80.13163),\n",
              " (39.837109999999996, -84.54392),\n",
              " (39.02296, -84.51784),\n",
              " (38.455787, -81.88205),\n",
              " (39.02397, -84.48039),\n",
              " (38.22433, -85.751),\n",
              " (39.05973, -84.42438),\n",
              " (39.27734, -84.86438000000001),\n",
              " (41.47965, -81.66758),\n",
              " (39.02257, -84.48631),\n",
              " (40.44846, -80.00755),\n",
              " (39.09891, -84.28556999999999),\n",
              " (41.06026, -81.55485999999999),\n",
              " (41.802758000000004, -83.684687),\n",
              " (38.0791, -83.94591),\n",
              " (38.01846, -84.15159),\n",
              " (38.30344, -85.88893),\n",
              " (38.84109, -85.81618),\n",
              " (41.14181, -80.72015999999999),\n",
              " (39.14648, -84.45455),\n",
              " (41.042629999999996, -81.50543),\n",
              " (38.21089, -85.82606),\n",
              " (39.75067, -84.14148),\n",
              " (38.28581, -85.50792),\n",
              " (39.152733000000005, -84.541403),\n",
              " (38.23585, -85.658849),\n",
              " (38.202490000000004, -85.68697),\n",
              " (40.534909999999996, -83.10678),\n",
              " (40.52035, -83.10043),\n",
              " (39.12965, -84.49555),\n",
              " (38.22811, -85.7514),\n",
              " (40.41233, -80.07815),\n",
              " (39.7504, -84.20561),\n",
              " (39.08272, -84.52264),\n",
              " (39.781457, -85.839651),\n",
              " (39.781457, -85.839651),\n",
              " (41.060759999999995, -81.45923),\n",
              " (39.688148, -83.88431),\n",
              " (39.693164, -83.882745),\n",
              " (39.9488, -83.02845),\n",
              " (41.115840000000006, -81.61428000000001),\n",
              " (39.797697, -84.189677),\n",
              " (39.20326, -85.95763000000001),\n",
              " (39.244640000000004, -84.44835),\n",
              " (39.73733, -84.25733000000001),\n",
              " (39.969853, -85.972976),\n",
              " (41.11889, -81.65406999999999),\n",
              " (39.13219, -84.49464),\n",
              " (41.458, -83.62201999999999),\n",
              " (40.09268, -83.03726),\n",
              " (40.066965, -83.289888),\n",
              " (40.045608, -83.29660799999999),\n",
              " (39.97307, -82.98405),\n",
              " (39.982479999999995, -85.123922),\n",
              " (39.981095, -85.11027299999999),\n",
              " (40.430209999999995, -80.02554),\n",
              " (40.432190000000006, -80.02781999999999),\n",
              " (39.976566999999996, -83.128639),\n",
              " (41.256658, -85.363439),\n",
              " (41.374990000000004, -83.61635),\n",
              " (41.252653, -85.347328),\n",
              " (39.93658, -83.00941999999999),\n",
              " (39.14014, -84.53495),\n",
              " (40.153014, -82.970316),\n",
              " (39.90524, -82.89541),\n",
              " (39.13219, -84.49464),\n",
              " (40.42581, -80.4294),\n",
              " (41.08789, -83.65977),\n",
              " (39.9488, -83.02845),\n",
              " (41.47585, -81.87980999999999),\n",
              " (39.1079, -84.50284),\n",
              " (38.340803, -81.680728),\n",
              " (40.964729999999996, -85.28862),\n",
              " (38.441, -82.12679),\n",
              " (38.4413, -82.01529000000001),\n",
              " (38.441, -82.12679),\n",
              " (38.18977, -83.48379),\n",
              " (41.194131, -80.201982),\n",
              " (40.09601, -83.13626),\n",
              " (41.23632, -83.65401999999999),\n",
              " (38.1737, -84.81473000000001),\n",
              " (38.19016, -85.7616),\n",
              " (39.25249, -84.36493),\n",
              " (39.137217, -84.04718299999999),\n",
              " (39.141453999999996, -84.016543),\n",
              " (38.344424, -81.613662),\n",
              " (41.931129999999996, -83.35857),\n",
              " (40.89268, -84.61808),\n",
              " (40.46013, -80.19126),\n",
              " (41.119341999999996, -80.698025),\n",
              " (41.117872, -80.693898),\n",
              " (39.15267, -84.5395),\n",
              " (38.27362, -85.80906),\n",
              " (41.458, -83.62201999999999),\n",
              " (39.35655, -84.26419),\n",
              " (38.4062, -81.54054000000001),\n",
              " (41.025259000000005, -81.5042),\n",
              " (38.27362, -85.80906),\n",
              " (38.119690000000006, -85.77235),\n",
              " (38.275406, -85.81314300000001),\n",
              " (38.275079999999996, -85.81517099999999),\n",
              " (41.397690000000004, -81.939),\n",
              " (39.46513, -80.13559000000001),\n",
              " (38.217994, -81.426024),\n",
              " (38.215401, -81.42437199999999),\n",
              " (39.042851, -84.612615),\n",
              " (38.26109, -85.73695),\n",
              " (39.056540000000005, -84.54283000000001),\n",
              " (41.840758, -84.361657),\n",
              " (41.841122999999996, -84.361652),\n",
              " (41.63316, -83.54203000000001),\n",
              " (40.02874, -81.04368000000001),\n",
              " (41.43891, -81.80258),\n",
              " (41.0811, -81.50348000000001),\n",
              " (38.35575, -81.65420999999999),\n",
              " (39.94585, -82.94293),\n",
              " (41.69017, -83.5181),\n",
              " (40.112120000000004, -83.03905999999999),\n",
              " (41.502590000000005, -81.66974),\n",
              " (39.989994, -83.02512),\n",
              " (41.480458, -81.692932),\n",
              " (39.22461, -84.45364000000001),\n",
              " (40.04376, -82.99708000000001),\n",
              " (39.936209999999996, -82.88318000000001),\n",
              " (39.167788, -82.524172),\n",
              " (39.20655, -82.48212),\n",
              " (41.365759999999995, -81.51602),\n",
              " (39.977321999999994, -81.183327),\n",
              " (39.961933, -81.175436),\n",
              " (39.68292, -84.23004),\n",
              " (40.02664, -82.9944),\n",
              " (38.583372, -81.994824),\n",
              " (38.581196000000006, -82.004356),\n",
              " (40.07297, -83.1347),\n",
              " (41.586890000000004, -83.56234),\n",
              " (38.31714, -85.57677),\n",
              " (40.07297, -83.1347),\n",
              " (39.07202, -84.51907),\n",
              " (41.46747, -81.75909),\n",
              " (40.82645, -81.39675),\n",
              " (40.82645, -81.39675),\n",
              " (39.056540000000005, -84.54283000000001),\n",
              " (39.06272, -84.65728),\n",
              " (39.03368, -84.59527),\n",
              " (40.021209999999996, -82.99503),\n",
              " (39.866695, -84.9305),\n",
              " (39.056540000000005, -84.54283000000001),\n",
              " (39.03232, -84.59137),\n",
              " (41.04058, -81.61256999999999),\n",
              " (40.98884, -83.64875),\n",
              " (39.956579999999995, -83.37075),\n",
              " (39.89857, -83.72139),\n",
              " (39.896448, -83.72312099999999),\n",
              " (41.47965, -81.66758),\n",
              " (39.71548, -84.22033),\n",
              " (40.0389, -85.71828000000001),\n",
              " (41.17516, -81.23116999999999),\n",
              " (41.151070000000004, -81.21375),\n",
              " (40.0389, -85.71828000000001),\n",
              " (39.993359999999996, -85.83861999999999),\n",
              " (40.46013, -80.19126),\n",
              " (41.68976, -83.666),\n",
              " (39.973259999999996, -83.00690999999999),\n",
              " (39.48572, -83.94191),\n",
              " (39.83355, -85.99635),\n",
              " (39.83355, -85.99635),\n",
              " (39.79721, -85.97153),\n",
              " (39.79721, -85.97153),\n",
              " (39.98056, -83.11924),\n",
              " (41.458, -83.62243000000001),\n",
              " (39.905352, -82.995352),\n",
              " (39.99921, -83.02875),\n",
              " (40.869049, -81.95845600000001),\n",
              " (41.419021, -81.519515),\n",
              " (39.343920000000004, -84.39043000000001),\n",
              " (39.9454, -82.60271),\n",
              " (38.353957, -81.73513100000001),\n",
              " (38.354504999999996, -81.731585),\n",
              " (41.501622999999995, -81.479519),\n",
              " (39.86477, -83.99871),\n",
              " (38.737813, -85.250959),\n",
              " (40.00507, -83.1186),\n",
              " (39.919779999999996, -82.93149),\n",
              " (39.097570000000005, -84.51666),\n",
              " (41.07995, -81.50389),\n",
              " (41.63316, -83.54203000000001),\n",
              " (39.82529, -83.03175999999999),\n",
              " (39.83209, -82.99884),\n",
              " (39.83208, -83.000447),\n",
              " (39.83214, -82.99838000000001),\n",
              " (38.416631, -84.861968),\n",
              " (40.55549, -80.11634000000001),\n",
              " (39.17736, -84.4873),\n",
              " (41.484589, -81.691778),\n",
              " (41.227340000000005, -81.62705),\n",
              " (39.04695, -84.57498000000001),\n",
              " (39.25595, -84.44287),\n",
              " (39.8888, -82.88181999999999),\n",
              " (39.74729, -84.21426),\n",
              " (39.97415, -83.09486),\n",
              " (39.08272, -84.52264),\n",
              " (39.949808000000004, -83.02289300000001),\n",
              " (39.951409999999996, -83.0137),\n",
              " (38.7056, -80.66107),\n",
              " (39.1479, -84.53929000000001),\n",
              " (41.7573, -83.48075),\n",
              " (39.98946, -85.9299),\n",
              " (39.98894, -83.025012),\n",
              " (41.110996, -80.82384),\n",
              " (41.686859000000005, -83.554005),\n",
              " (41.53907, -81.63354),\n",
              " (39.300562, -84.518869),\n",
              " (41.202543, -85.7011),\n",
              " (39.19288, -84.47723),\n",
              " (40.07297, -83.1347),\n",
              " (39.140991, -84.483618),\n",
              " (41.121598999999996, -80.789503),\n",
              " (41.31438, -81.51286),\n",
              " (39.85922, -84.27762),\n",
              " (40.42005, -80.03531),\n",
              " (39.9589, -82.98257),\n",
              " (39.89087, -83.85382),\n",
              " (39.89862, -83.85353),\n",
              " (40.03938, -83.050567),\n",
              " (41.41218, -81.61371),\n",
              " (38.306159, -80.833765),\n",
              " (40.104, -82.94154),\n",
              " (38.24178, -85.62212),\n",
              " (41.552640000000004, -81.60032),\n",
              " (39.992259999999995, -82.98517),\n",
              " (38.315529999999995, -85.58313000000001),\n",
              " (38.400331, -85.371049),\n",
              " (38.312509999999996, -85.57741999999999),\n",
              " (38.400331, -85.371049),\n",
              " (39.889379999999996, -82.88316),\n",
              " (38.15873, -80.90504),\n",
              " (38.155136999999996, -80.912154),\n",
              " (39.9745, -83.09654),\n",
              " (41.47487, -81.72095),\n",
              " (39.26931, -84.4307),\n",
              " (38.2201, -85.82223),\n",
              " (41.48339, -81.66297),\n",
              " (39.161609999999996, -84.51375),\n",
              " (41.42734, -82.08322),\n",
              " (41.526309999999995, -83.62123000000001),\n",
              " (39.917320000000004, -83.012335),\n",
              " (41.608670000000004, -81.48891),\n",
              " (41.20554, -85.17116),\n",
              " (41.1787, -85.16594),\n",
              " (41.507189000000004, -81.67124),\n",
              " (39.97415, -83.09486),\n",
              " (39.97043, -83.01961999999999),\n",
              " (39.93849, -82.84849),\n",
              " (39.89698, -83.03428000000001),\n",
              " (39.71452, -84.22281),\n",
              " (40.11468, -83.01644),\n",
              " (38.34244, -85.80447),\n",
              " (41.47036, -81.65984),\n",
              " (38.30056, -85.84703),\n",
              " (39.169389, -84.50389),\n",
              " (39.936838, -83.042661),\n",
              " (39.937567, -83.04209200000001),\n",
              " (39.9425, -82.53536),\n",
              " (39.27125, -84.35176),\n",
              " (41.398877, -83.616108),\n",
              " (39.24422, -84.30224),\n",
              " (40.412997, -80.07973299999999),\n",
              " (39.021521, -84.50784300000001),\n",
              " (41.123670000000004, -80.76913),\n",
              " (41.073876, -83.66091999999999),\n",
              " (39.01992, -83.65886),\n",
              " (38.97914, -83.65465),\n",
              " (40.099270000000004, -83.15793000000001),\n",
              " (39.93658, -83.00941999999999),\n",
              " (39.115429999999996, -84.50003000000001),\n",
              " (41.474552, -81.711522),\n",
              " (39.78517, -84.18457),\n",
              " (41.47974, -81.6667),\n",
              " (38.277190000000004, -85.69383),\n",
              " (38.495124, -85.771118),\n",
              " (39.73277, -84.20522),\n",
              " (41.458, -83.62243000000001),\n",
              " (39.045381, -84.462312),\n",
              " (41.526, -81.65974),\n",
              " (40.78725, -81.38592),\n",
              " (38.3657, -85.75495),\n",
              " (39.02575, -84.61272),\n",
              " (40.90923, -81.79765),\n",
              " (40.91649, -81.78869),\n",
              " (39.10051, -80.39199),\n",
              " (40.082643, -82.91367199999999),\n",
              " (41.47162, -81.90626),\n",
              " (40.08155, -82.91859000000001),\n",
              " (40.07976, -82.92689),\n",
              " (38.27511, -85.81238),\n",
              " (39.02908, -84.53565),\n",
              " (39.04455, -84.57798000000001),\n",
              " (39.830259999999996, -81.45434),\n",
              " (39.81436, -81.46898),\n",
              " (38.41336, -82.3483),\n",
              " (38.20674, -85.74846),\n",
              " (38.10937, -85.70123000000001),\n",
              " (40.26758, -82.92745),\n",
              " (38.22285, -85.57436),\n",
              " (40.43827, -80.00527),\n",
              " (39.08272, -84.52264),\n",
              " (40.046599, -85.99359),\n",
              " (41.67904, -83.5732),\n",
              " (40.52225, -80.06666),\n",
              " (41.041763, -81.3932),\n",
              " (39.02541, -85.88784),\n",
              " (39.887572, -84.047499),\n",
              " (39.90803, -84.03969000000001),\n",
              " (39.8181, -81.45925),\n",
              " (39.8181, -81.45925),\n",
              " (39.8181, -81.45925),\n",
              " (39.81447, -81.46769),\n",
              " (41.47307, -80.36586),\n",
              " (41.460561, -80.366376),\n",
              " (39.75022, -84.19668),\n",
              " (39.161609999999996, -84.51375),\n",
              " (39.82329, -84.166569),\n",
              " (39.818751, -84.167637),\n",
              " (39.15267, -84.5395),\n",
              " (40.480209, -85.719799),\n",
              " (39.026759999999996, -84.61421),\n",
              " (40.480209, -85.719799),\n",
              " (40.480129999999996, -85.72942900000001),\n",
              " (38.24863, -85.70467),\n",
              " (39.24907, -84.44561999999999),\n",
              " (39.183640000000004, -84.48373000000001),\n",
              " (41.420898, -81.69322),\n",
              " (39.18976, -84.26285),\n",
              " (40.009209999999996, -83.03149),\n",
              " (41.12369, -80.75595),\n",
              " (41.09705, -81.50012),\n",
              " (41.03011, -81.40292099999999),\n",
              " (39.9533, -83.0032),\n",
              " (39.91404, -83.01729),\n",
              " (39.118109999999994, -84.49975),\n",
              " (39.73277, -84.20522),\n",
              " (41.47379, -81.69592),\n",
              " (41.47395, -81.69931),\n",
              " (39.62334, -81.83577),\n",
              " (39.98233, -82.98449000000001),\n",
              " (40.15106, -80.03243),\n",
              " (41.66332, -83.56385999999999),\n",
              " (39.35245, -84.37507),\n",
              " (41.67178, -83.6939),\n",
              " (38.380179999999996, -82.60993),\n",
              " (39.03347, -84.603),\n",
              " (40.42116, -80.0438),\n",
              " (41.341147, -83.347543),\n",
              " (41.34131, -83.376561),\n",
              " (40.26758, -82.92745),\n",
              " (40.432459, -80.023538),\n",
              " (39.9912, -85.9188),\n",
              " (39.056540000000005, -84.54283000000001),\n",
              " (38.39328, -85.76223),\n",
              " (39.971658000000005, -80.017133),\n",
              " (39.98381, -80.01011),\n",
              " (39.844570000000004, -85.51639399999999),\n",
              " (38.399528000000004, -85.76430500000001),\n",
              " (38.38981, -81.76937),\n",
              " (41.47965, -81.66758),\n",
              " (39.978590000000004, -82.9763),\n",
              " (40.681090000000005, -80.24616999999999),\n",
              " (40.681090000000005, -80.24616999999999),\n",
              " (41.47487, -81.72095),\n",
              " ...]"
            ]
          },
          "metadata": {},
          "execution_count": 53
        }
      ]
    },
    {
      "cell_type": "code",
      "metadata": {
        "id": "Oi96m0R7ZeEC"
      },
      "source": [
        "from folium.plugins import HeatMap"
      ],
      "execution_count": 50,
      "outputs": []
    },
    {
      "cell_type": "code",
      "metadata": {
        "id": "T363rd6QZw2s"
      },
      "source": [
        "sample_df = df.sample(int(0.001*len(df)))\n",
        "lat_lon_pairs = list(zip(list(sample_df.Start_Lat), list(sample_df.Start_Lng)))"
      ],
      "execution_count": 51,
      "outputs": []
    },
    {
      "cell_type": "code",
      "metadata": {
        "colab": {
          "base_uri": "https://localhost:8080/",
          "height": 866
        },
        "id": "JOYBpu3_aB1G",
        "outputId": "7c9ac044-9d4f-4fa3-9164-0486fba094de"
      },
      "source": [
        "map = folium.Map()\n",
        "HeatMap(lat_lon_pairs[:100]).add_to(map)\n",
        "map"
      ],
      "execution_count": 52,
      "outputs": [
        {
          "output_type": "execute_result",
          "data": {
            "text/html": [
              "<div style=\"width:100%;\"><div style=\"position:relative;width:100%;height:0;padding-bottom:60%;\"><span style=\"color:#565656\">Make this Notebook Trusted to load map: File -> Trust Notebook</span><iframe src=\"about:blank\" style=\"position:absolute;width:100%;height:100%;left:0;top:0;border:none !important;\" data-html=%3C%21DOCTYPE%20html%3E%0A%3Chead%3E%20%20%20%20%0A%20%20%20%20%3Cmeta%20http-equiv%3D%22content-type%22%20content%3D%22text/html%3B%20charset%3DUTF-8%22%20/%3E%0A%20%20%20%20%3Cscript%3EL_PREFER_CANVAS%3Dfalse%3B%20L_NO_TOUCH%3Dfalse%3B%20L_DISABLE_3D%3Dfalse%3B%3C/script%3E%0A%20%20%20%20%3Cscript%20src%3D%22https%3A//cdn.jsdelivr.net/npm/leaflet%401.4.0/dist/leaflet.js%22%3E%3C/script%3E%0A%20%20%20%20%3Cscript%20src%3D%22https%3A//code.jquery.com/jquery-1.12.4.min.js%22%3E%3C/script%3E%0A%20%20%20%20%3Cscript%20src%3D%22https%3A//maxcdn.bootstrapcdn.com/bootstrap/3.2.0/js/bootstrap.min.js%22%3E%3C/script%3E%0A%20%20%20%20%3Cscript%20src%3D%22https%3A//cdnjs.cloudflare.com/ajax/libs/Leaflet.awesome-markers/2.0.2/leaflet.awesome-markers.js%22%3E%3C/script%3E%0A%20%20%20%20%3Clink%20rel%3D%22stylesheet%22%20href%3D%22https%3A//cdn.jsdelivr.net/npm/leaflet%401.4.0/dist/leaflet.css%22/%3E%0A%20%20%20%20%3Clink%20rel%3D%22stylesheet%22%20href%3D%22https%3A//maxcdn.bootstrapcdn.com/bootstrap/3.2.0/css/bootstrap.min.css%22/%3E%0A%20%20%20%20%3Clink%20rel%3D%22stylesheet%22%20href%3D%22https%3A//maxcdn.bootstrapcdn.com/bootstrap/3.2.0/css/bootstrap-theme.min.css%22/%3E%0A%20%20%20%20%3Clink%20rel%3D%22stylesheet%22%20href%3D%22https%3A//maxcdn.bootstrapcdn.com/font-awesome/4.6.3/css/font-awesome.min.css%22/%3E%0A%20%20%20%20%3Clink%20rel%3D%22stylesheet%22%20href%3D%22https%3A//cdnjs.cloudflare.com/ajax/libs/Leaflet.awesome-markers/2.0.2/leaflet.awesome-markers.css%22/%3E%0A%20%20%20%20%3Clink%20rel%3D%22stylesheet%22%20href%3D%22https%3A//rawcdn.githack.com/python-visualization/folium/master/folium/templates/leaflet.awesome.rotate.css%22/%3E%0A%20%20%20%20%3Cstyle%3Ehtml%2C%20body%20%7Bwidth%3A%20100%25%3Bheight%3A%20100%25%3Bmargin%3A%200%3Bpadding%3A%200%3B%7D%3C/style%3E%0A%20%20%20%20%3Cstyle%3E%23map%20%7Bposition%3Aabsolute%3Btop%3A0%3Bbottom%3A0%3Bright%3A0%3Bleft%3A0%3B%7D%3C/style%3E%0A%20%20%20%20%0A%20%20%20%20%3Cmeta%20name%3D%22viewport%22%20content%3D%22width%3Ddevice-width%2C%0A%20%20%20%20%20%20%20%20initial-scale%3D1.0%2C%20maximum-scale%3D1.0%2C%20user-scalable%3Dno%22%20/%3E%0A%20%20%20%20%3Cstyle%3E%23map_59624634be30440b8c7b330e55cf7b6e%20%7B%0A%20%20%20%20%20%20%20%20position%3A%20relative%3B%0A%20%20%20%20%20%20%20%20width%3A%20100.0%25%3B%0A%20%20%20%20%20%20%20%20height%3A%20100.0%25%3B%0A%20%20%20%20%20%20%20%20left%3A%200.0%25%3B%0A%20%20%20%20%20%20%20%20top%3A%200.0%25%3B%0A%20%20%20%20%20%20%20%20%7D%0A%20%20%20%20%3C/style%3E%0A%20%20%20%20%3Cscript%20src%3D%22https%3A//leaflet.github.io/Leaflet.heat/dist/leaflet-heat.js%22%3E%3C/script%3E%0A%3C/head%3E%0A%3Cbody%3E%20%20%20%20%0A%20%20%20%20%0A%20%20%20%20%3Cdiv%20class%3D%22folium-map%22%20id%3D%22map_59624634be30440b8c7b330e55cf7b6e%22%20%3E%3C/div%3E%0A%3C/body%3E%0A%3Cscript%3E%20%20%20%20%0A%20%20%20%20%0A%20%20%20%20%0A%20%20%20%20%20%20%20%20var%20bounds%20%3D%20null%3B%0A%20%20%20%20%0A%0A%20%20%20%20var%20map_59624634be30440b8c7b330e55cf7b6e%20%3D%20L.map%28%0A%20%20%20%20%20%20%20%20%27map_59624634be30440b8c7b330e55cf7b6e%27%2C%20%7B%0A%20%20%20%20%20%20%20%20center%3A%20%5B0%2C%200%5D%2C%0A%20%20%20%20%20%20%20%20zoom%3A%201%2C%0A%20%20%20%20%20%20%20%20maxBounds%3A%20bounds%2C%0A%20%20%20%20%20%20%20%20layers%3A%20%5B%5D%2C%0A%20%20%20%20%20%20%20%20worldCopyJump%3A%20false%2C%0A%20%20%20%20%20%20%20%20crs%3A%20L.CRS.EPSG3857%2C%0A%20%20%20%20%20%20%20%20zoomControl%3A%20true%2C%0A%20%20%20%20%20%20%20%20%7D%29%3B%0A%0A%0A%20%20%20%20%0A%20%20%20%20var%20tile_layer_3588c87210b549cda70a5ccdbed8b122%20%3D%20L.tileLayer%28%0A%20%20%20%20%20%20%20%20%27https%3A//%7Bs%7D.tile.openstreetmap.org/%7Bz%7D/%7Bx%7D/%7By%7D.png%27%2C%0A%20%20%20%20%20%20%20%20%7B%0A%20%20%20%20%20%20%20%20%22attribution%22%3A%20null%2C%0A%20%20%20%20%20%20%20%20%22detectRetina%22%3A%20false%2C%0A%20%20%20%20%20%20%20%20%22maxNativeZoom%22%3A%2018%2C%0A%20%20%20%20%20%20%20%20%22maxZoom%22%3A%2018%2C%0A%20%20%20%20%20%20%20%20%22minZoom%22%3A%200%2C%0A%20%20%20%20%20%20%20%20%22noWrap%22%3A%20false%2C%0A%20%20%20%20%20%20%20%20%22opacity%22%3A%201%2C%0A%20%20%20%20%20%20%20%20%22subdomains%22%3A%20%22abc%22%2C%0A%20%20%20%20%20%20%20%20%22tms%22%3A%20false%0A%7D%29.addTo%28map_59624634be30440b8c7b330e55cf7b6e%29%3B%0A%20%20%20%20%0A%20%20%20%20%20%20%20%20%20%20%20%20var%20heat_map_b6dc6f89ce3a4247ab3983dd0ca13144%20%3D%20L.heatLayer%28%0A%20%20%20%20%20%20%20%20%20%20%20%20%20%20%20%20%5B%5B44.713962%2C%20-122.72868000000001%5D%2C%20%5B25.684753%2C%20-80.432337%5D%2C%20%5B25.603575%2C%20-80.351962%5D%2C%20%5B41.87901%2C%20-87.64587%5D%2C%20%5B38.223595%2C%20-122.611799%5D%2C%20%5B36.609097999999996%2C%20-121.85716399999998%5D%2C%20%5B33.5485%2C%20-84.28299999999999%5D%2C%20%5B29.059596999999997%2C%20-81.007823%5D%2C%20%5B39.3236%2C%20-74.61725%5D%2C%20%5B45.51525%2C%20-94.28412%5D%2C%20%5B35.14532%2C%20-80.89929000000001%5D%2C%20%5B40.719834999999996%2C%20-73.587629%5D%2C%20%5B46.094559999999994%2C%20-123.13573000000001%5D%2C%20%5B38.510303%2C%20-121.464525%5D%2C%20%5B25.905712%2C%20-80.172724%5D%2C%20%5B32.229166%2C%20-110.943997%5D%2C%20%5B34.6192%2C%20-87.02172%5D%2C%20%5B39.058890999999996%2C%20-83.994327%5D%2C%20%5B41.013541%2C%20-83.687058%5D%2C%20%5B37.347364%2C%20-121.84156200000001%5D%2C%20%5B33.974747%2C%20-118.24766499999998%5D%2C%20%5B41.95881%2C%20-87.7393%5D%2C%20%5B32.90137%2C%20-96.45755%5D%2C%20%5B36.115429999999996%2C%20-95.85965%5D%2C%20%5B33.990614%2C%20-117.22696699999999%5D%2C%20%5B33.585557%2C%20-79.052595%5D%2C%20%5B34.03093%2C%20-117.328346%5D%2C%20%5B37.808592%2C%20-122.242804%5D%2C%20%5B35.76789%2C%20-78.57531999999999%5D%2C%20%5B33.85422%2C%20-117.79064%5D%2C%20%5B39.72503%2C%20-84.21003%5D%2C%20%5B40.13126%2C%20-74.96743000000001%5D%2C%20%5B40.659874%2C%20-74.436353%5D%2C%20%5B28.09352%2C%20-82.74035699999999%5D%2C%20%5B32.18719%2C%20-110.96833000000001%5D%2C%20%5B39.567859999999996%2C%20-76.14094%5D%2C%20%5B44.94543%2C%20-122.99015%5D%2C%20%5B32.76135%2C%20-96.80839%5D%2C%20%5B38.44905%2C%20-122.72591000000001%5D%2C%20%5B39.01585%2C%20-77.0079%5D%2C%20%5B37.336563%2C%20-121.857256%5D%2C%20%5B29.56082%2C%20-82.48266%5D%2C%20%5B37.890062%2C%20-121.276389%5D%2C%20%5B45.53038%2C%20-122.63755%5D%2C%20%5B40.105871%2C%20-76.305441%5D%2C%20%5B38.488656%2C%20-122.449626%5D%2C%20%5B30.369135999999997%2C%20-97.531767%5D%2C%20%5B43.347883%2C%20-70.729832%5D%2C%20%5B38.5672%2C%20-90.44021%5D%2C%20%5B41.968934999999995%2C%20-87.648059%5D%2C%20%5B40.732928%2C%20-74.220825%5D%2C%20%5B42.361227%2C%20-71.11594699999999%5D%2C%20%5B32.819764%2C%20-96.63557%5D%2C%20%5B35.55778%2C%20-119.43865%5D%2C%20%5B38.632321000000005%2C%20-76.90436899999999%5D%2C%20%5B38.62717%2C%20-121.40901299999999%5D%2C%20%5B41.974109999999996%2C%20-87.76895999999999%5D%2C%20%5B44.70489%2C%20-92.64567%5D%2C%20%5B32.89318%2C%20-117.11543999999999%5D%2C%20%5B34.137756%2C%20-118.013927%5D%2C%20%5B41.244145%2C%20-73.106449%5D%2C%20%5B32.302945%2C%20-90.166258%5D%2C%20%5B40.605221%2C%20-111.976743%5D%2C%20%5B28.023902000000003%2C%20-82.73824%5D%2C%20%5B37.888907%2C%20-122.17566200000002%5D%2C%20%5B32.67005%2C%20-96.82249%5D%2C%20%5B40.207570000000004%2C%20-76.57571%5D%2C%20%5B41.761313%2C%20-87.94511%5D%2C%20%5B38.962526000000004%2C%20-78.195628%5D%2C%20%5B34.02172%2C%20-117.10423999999999%5D%2C%20%5B44.25184%2C%20-93.37228%5D%2C%20%5B38.538754%2C%20-121.37088899999999%5D%2C%20%5B38.671356%2C%20-121.59158300000001%5D%2C%20%5B40.20791%2C%20-76.565841%5D%2C%20%5B39.016740000000006%2C%20-76.99771%5D%2C%20%5B45.57235%2C%20-122.67877%5D%2C%20%5B33.515762%2C%20-84.498799%5D%2C%20%5B33.87659%2C%20-118.06886999999999%5D%2C%20%5B33.69075%2C%20-117.92362%5D%2C%20%5B33.855971999999994%2C%20-81.016475%5D%2C%20%5B25.82872%2C%20-80.20608%5D%2C%20%5B27.893646999999998%2C%20-82.72898%5D%2C%20%5B39.771612%2C%20-75.048626%5D%2C%20%5B40.83025%2C%20-73.93219%5D%2C%20%5B32.327020000000005%2C%20-86.26507%5D%2C%20%5B45.564640999999995%2C%20-123.57696399999999%5D%2C%20%5B33.888798%2C%20-117.51241499999999%5D%2C%20%5B41.137737%2C%20-75.401669%5D%2C%20%5B32.76463%2C%20-117.16168%5D%2C%20%5B38.89568%2C%20-76.84866%5D%2C%20%5B42.183939%2C%20-122.665499%5D%2C%20%5B32.470913%2C%20-93.73350500000001%5D%2C%20%5B39.044990000000006%2C%20-76.93316999999999%5D%2C%20%5B37.42528%2C%20-122.09804%5D%2C%20%5B36.1965%2C%20-115.13687%5D%2C%20%5B29.72523%2C%20-95.46021999999999%5D%2C%20%5B40.004707%2C%20-75.221251%5D%2C%20%5B32.7769%2C%20-96.62411999999999%5D%2C%20%5B37.295615000000005%2C%20-120.471488%5D%2C%20%5B44.629740000000005%2C%20-123.03255%5D%5D%2C%0A%20%20%20%20%20%20%20%20%20%20%20%20%20%20%20%20%7B%0A%20%20%20%20%20%20%20%20%20%20%20%20%20%20%20%20%20%20%20%20minOpacity%3A%200.5%2C%0A%20%20%20%20%20%20%20%20%20%20%20%20%20%20%20%20%20%20%20%20maxZoom%3A%2018%2C%0A%20%20%20%20%20%20%20%20%20%20%20%20%20%20%20%20%20%20%20%20max%3A%201.0%2C%0A%20%20%20%20%20%20%20%20%20%20%20%20%20%20%20%20%20%20%20%20radius%3A%2025%2C%0A%20%20%20%20%20%20%20%20%20%20%20%20%20%20%20%20%20%20%20%20blur%3A%2015%2C%0A%20%20%20%20%20%20%20%20%20%20%20%20%20%20%20%20%20%20%20%20gradient%3A%20null%0A%20%20%20%20%20%20%20%20%20%20%20%20%20%20%20%20%20%20%20%20%7D%29%0A%20%20%20%20%20%20%20%20%20%20%20%20%20%20%20%20.addTo%28map_59624634be30440b8c7b330e55cf7b6e%29%3B%0A%20%20%20%20%20%20%20%20%0A%3C/script%3E onload=\"this.contentDocument.open();this.contentDocument.write(    decodeURIComponent(this.getAttribute('data-html')));this.contentDocument.close();\" allowfullscreen webkitallowfullscreen mozallowfullscreen></iframe></div></div>"
            ],
            "text/plain": [
              "<folium.folium.Map at 0x7fa000febf10>"
            ]
          },
          "metadata": {},
          "execution_count": 52
        }
      ]
    },
    {
      "cell_type": "markdown",
      "metadata": {
        "id": "yQeMKvFrCR-L"
      },
      "source": [
        "Looks like data from NY is not present in this data set."
      ]
    },
    {
      "cell_type": "markdown",
      "metadata": {
        "id": "bLfr-NNmadiE"
      },
      "source": [
        "###**Ask and Answer Questions**\n",
        "\n",
        "1. Are there more accidents in warmer or colder areas?\n",
        "\n",
        "2. Which states have the highest number of accidents? How about per capita?\n",
        "\n",
        "3. Does NY show up in the list of the cities with highest accidents? If yes, why is the count lower if this has a higher population?\n",
        "\n",
        "4. Among the top 100 cities in the number of accidenrs, which states do they belong? \n",
        "\n",
        "5. What time of the day are most accidents occuring?\n",
        "\n",
        "6. What days or months most accidents take place?\n",
        "\n",
        "7. What is the trend of the accidents year over year (increase/decrease?)\n",
        "\n",
        "8. Does it change from state to state?\n",
        "\n",
        "9. When is accidents per unit of traffic the highest? (comparing traffic information with the accident time)"
      ]
    },
    {
      "cell_type": "markdown",
      "metadata": {
        "id": "ZeXbUyCobUQD"
      },
      "source": [
        "#**Summary and Conclusion**\n",
        "No data for New York\n",
        "\n",
        "The number of accidents per city decreases or increases exponentially\n",
        "\n",
        "Less than 5% of cities have more than 1000 yearly accidents\n",
        "\n",
        "len(high_accident_cities)/len(Cities) = 0.023550384687558643\n",
        "\n",
        "Only about 2% of the total cities have more than 1000 accidents per year\n",
        "\n",
        "There are 1167 cities which has only reported 1 accident, need to investigate\n",
        "\n"
      ]
    }
  ]
}